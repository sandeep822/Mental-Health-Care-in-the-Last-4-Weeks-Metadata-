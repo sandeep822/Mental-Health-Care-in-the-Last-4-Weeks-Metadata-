{
  "nbformat": 4,
  "nbformat_minor": 0,
  "metadata": {
    "colab": {
      "provenance": []
    },
    "kernelspec": {
      "name": "python3",
      "display_name": "Python 3"
    },
    "language_info": {
      "name": "python"
    }
  },
  "cells": [
    {
      "cell_type": "markdown",
      "source": [
        "#Dataset-1\n",
        "\n",
        "\n",
        "Mental Health Care in the Last 4 Weeks\n",
        "Metadata Updated: April 15, 2023\n",
        "\n",
        "The U.S. Census Bureau, in collaboration with five federal agencies, launched the Household Pulse Survey to produce data on the social and economic impacts of Covid-19 on American households. The Household Pulse Survey was designed to gauge the impact of the pandemic on employment status, consumer spending, food security, housing, education disruptions, and dimensions of physical and mental wellness.\n",
        "\n",
        "The survey was designed to meet the goal of accurate and timely weekly estimates. It was conducted by an internet questionnaire, with invitations to participate sent by email and text message. The sample frame is the Census Bureau Master Address File Data. Housing units linked to one or more email addresses or cell phone numbers were randomly selected to participate, and one respondent from each housing unit was selected to respond for him or herself. Estimates are weighted to adjust for nonresponse and to match Census Bureau estimates of the population by age, gender, race and ethnicity, and educational attainment. All estimates shown meet the NCHS Data Presentation Standards for Proportions.\n",
        "\n",
        "https://catalog.data.gov/dataset/mental-health-care-in-the-last-4-weeks\n"
      ],
      "metadata": {
        "id": "vE-h3URiXTb6"
      }
    },
    {
      "cell_type": "markdown",
      "source": [
        "#Dataset Description:\n",
        "\n",
        "The problem at hand involves the analysis of mental health care data collected during the last four weeks through the U.S. Census Bureau's Household Pulse Survey. The dataset provides insights into various aspects of mental health care, including the percentage of individuals who took prescription medication for mental health, sought counseling or therapy, and other related indicators. The data is segmented by different demographic groups, states, and subgroups, providing a comprehensive view of how mental health care needs have evolved over time and across different segments of the population. The challenge is to leverage this dataset to perform meaningful data processing and learning tasks using both Tensorflow and Pytorch in a Jupyter Notebook environment. The goal is to gain valuable insights into the patterns, trends, and factors influencing mental health care utilization, ultimately contributing to a better understanding of the social and economic impacts of Covid-19 on American households.\n",
        "\n",
        "The dataset is sourced from the U.S. Census Bureau's Household Pulse Survey, specifically focusing on mental health care in the last four weeks. It contains detailed information about various indicators related to mental health care, including prescription medication usage, counseling or therapy needs, and more. The data is organized by different dimensions such as indicator type, demographic groups, states, and time periods. Each record provides specific values, confidence intervals, and quartile ranges, offering a rich source for exploring the nuances of mental health care trends. The dataset spans from August 19 to August 31, 2020, to more recent dates, providing a temporal dimension to the analysis. It is a valuable resource for understanding the evolving landscape of mental health care needs across the United States.\n",
        "\n",
        "\n",
        "#Goal\n",
        "\n",
        "The primary goal of this application is to conduct a comprehensive analysis of the mental health care dataset using both Tensorflow and Pytorch in a Jupyter Notebook. This involves data processing, feature engineering, and the application of machine learning techniques to extract meaningful insights. The specific objectives include building models to predict mental health care indicators, identifying key factors influencing mental health care utilization, and evaluating the overall trends over different time periods and demographic groups. The end result should be a well-documented Jupyter Notebook containing the code for data processing, learning, and training, along with clear explanations of the findings. Additionally, a 10-minute video presentation will be created to demonstrate the workflow, highlight key insights, and showcase the impact of the analysis on understanding the dynamics of mental health care in the context of the Covid-19 pandemic."
      ],
      "metadata": {
        "id": "KGjO1KpahpSg"
      }
    },
    {
      "cell_type": "code",
      "execution_count": null,
      "metadata": {
        "colab": {
          "base_uri": "https://localhost:8080/",
          "height": 805
        },
        "id": "kZdwYGLtVXvU",
        "outputId": "63faa108-a75d-4307-d3f3-ed7808a7f7f5"
      },
      "outputs": [
        {
          "output_type": "execute_result",
          "data": {
            "text/plain": [
              "                                               Indicator              Group  \\\n",
              "0      Took Prescription Medication for Mental Health...  National Estimate   \n",
              "1      Took Prescription Medication for Mental Health...             By Age   \n",
              "2      Took Prescription Medication for Mental Health...             By Age   \n",
              "3      Took Prescription Medication for Mental Health...             By Age   \n",
              "4      Took Prescription Medication for Mental Health...             By Age   \n",
              "...                                                  ...                ...   \n",
              "10399  Needed Counseling or Therapy But Did Not Get I...           By State   \n",
              "10400  Needed Counseling or Therapy But Did Not Get I...           By State   \n",
              "10401  Needed Counseling or Therapy But Did Not Get I...           By State   \n",
              "10402  Needed Counseling or Therapy But Did Not Get I...           By State   \n",
              "10403  Needed Counseling or Therapy But Did Not Get I...           By State   \n",
              "\n",
              "               State       Subgroup Phase  Time Period      Time Period Label  \\\n",
              "0      United States  United States     2           13  Aug 19 - Aug 31, 2020   \n",
              "1      United States  18 - 29 years     2           13  Aug 19 - Aug 31, 2020   \n",
              "2      United States  30 - 39 years     2           13  Aug 19 - Aug 31, 2020   \n",
              "3      United States  40 - 49 years     2           13  Aug 19 - Aug 31, 2020   \n",
              "4      United States  50 - 59 years     2           13  Aug 19 - Aug 31, 2020   \n",
              "...              ...            ...   ...          ...                    ...   \n",
              "10399       Virginia       Virginia   3.4           45   Apr 27 - May 9, 2022   \n",
              "10400     Washington     Washington   3.4           45   Apr 27 - May 9, 2022   \n",
              "10401  West Virginia  West Virginia   3.4           45   Apr 27 - May 9, 2022   \n",
              "10402      Wisconsin      Wisconsin   3.4           45   Apr 27 - May 9, 2022   \n",
              "10403        Wyoming        Wyoming   3.4           45   Apr 27 - May 9, 2022   \n",
              "\n",
              "      Time Period Start Date Time Period End Date  Value  LowCI  HighCI  \\\n",
              "0                 08/19/2020           08/31/2020   19.4   19.0    19.8   \n",
              "1                 08/19/2020           08/31/2020   18.7   17.2    20.3   \n",
              "2                 08/19/2020           08/31/2020   18.3   17.3    19.2   \n",
              "3                 08/19/2020           08/31/2020   20.4   19.5    21.3   \n",
              "4                 08/19/2020           08/31/2020   21.2   20.2    22.2   \n",
              "...                      ...                  ...    ...    ...     ...   \n",
              "10399             04/27/2022           05/09/2022   10.1    7.1    13.8   \n",
              "10400             04/27/2022           05/09/2022   14.8   12.5    17.4   \n",
              "10401             04/27/2022           05/09/2022    9.8    6.6    13.8   \n",
              "10402             04/27/2022           05/09/2022   11.6    8.5    15.3   \n",
              "10403             04/27/2022           05/09/2022   11.5    8.6    15.1   \n",
              "\n",
              "      Confidence Interval Quartile Range  Suppression Flag  \n",
              "0             19.0 - 19.8            NaN               NaN  \n",
              "1             17.2 - 20.3            NaN               NaN  \n",
              "2             17.3 - 19.2            NaN               NaN  \n",
              "3             19.5 - 21.3            NaN               NaN  \n",
              "4             20.2 - 22.2            NaN               NaN  \n",
              "...                   ...            ...               ...  \n",
              "10399          7.1 - 13.8       9.6-11.3               NaN  \n",
              "10400         12.5 - 17.4      13.0-20.8               NaN  \n",
              "10401          6.6 - 13.8       9.6-11.3               NaN  \n",
              "10402          8.5 - 15.3      11.4-12.9               NaN  \n",
              "10403          8.6 - 15.1      11.4-12.9               NaN  \n",
              "\n",
              "[10404 rows x 15 columns]"
            ],
            "text/html": [
              "\n",
              "  <div id=\"df-d2d241e5-c004-49ca-a04e-225562d9a84b\" class=\"colab-df-container\">\n",
              "    <div>\n",
              "<style scoped>\n",
              "    .dataframe tbody tr th:only-of-type {\n",
              "        vertical-align: middle;\n",
              "    }\n",
              "\n",
              "    .dataframe tbody tr th {\n",
              "        vertical-align: top;\n",
              "    }\n",
              "\n",
              "    .dataframe thead th {\n",
              "        text-align: right;\n",
              "    }\n",
              "</style>\n",
              "<table border=\"1\" class=\"dataframe\">\n",
              "  <thead>\n",
              "    <tr style=\"text-align: right;\">\n",
              "      <th></th>\n",
              "      <th>Indicator</th>\n",
              "      <th>Group</th>\n",
              "      <th>State</th>\n",
              "      <th>Subgroup</th>\n",
              "      <th>Phase</th>\n",
              "      <th>Time Period</th>\n",
              "      <th>Time Period Label</th>\n",
              "      <th>Time Period Start Date</th>\n",
              "      <th>Time Period End Date</th>\n",
              "      <th>Value</th>\n",
              "      <th>LowCI</th>\n",
              "      <th>HighCI</th>\n",
              "      <th>Confidence Interval</th>\n",
              "      <th>Quartile Range</th>\n",
              "      <th>Suppression Flag</th>\n",
              "    </tr>\n",
              "  </thead>\n",
              "  <tbody>\n",
              "    <tr>\n",
              "      <th>0</th>\n",
              "      <td>Took Prescription Medication for Mental Health...</td>\n",
              "      <td>National Estimate</td>\n",
              "      <td>United States</td>\n",
              "      <td>United States</td>\n",
              "      <td>2</td>\n",
              "      <td>13</td>\n",
              "      <td>Aug 19 - Aug 31, 2020</td>\n",
              "      <td>08/19/2020</td>\n",
              "      <td>08/31/2020</td>\n",
              "      <td>19.4</td>\n",
              "      <td>19.0</td>\n",
              "      <td>19.8</td>\n",
              "      <td>19.0 - 19.8</td>\n",
              "      <td>NaN</td>\n",
              "      <td>NaN</td>\n",
              "    </tr>\n",
              "    <tr>\n",
              "      <th>1</th>\n",
              "      <td>Took Prescription Medication for Mental Health...</td>\n",
              "      <td>By Age</td>\n",
              "      <td>United States</td>\n",
              "      <td>18 - 29 years</td>\n",
              "      <td>2</td>\n",
              "      <td>13</td>\n",
              "      <td>Aug 19 - Aug 31, 2020</td>\n",
              "      <td>08/19/2020</td>\n",
              "      <td>08/31/2020</td>\n",
              "      <td>18.7</td>\n",
              "      <td>17.2</td>\n",
              "      <td>20.3</td>\n",
              "      <td>17.2 - 20.3</td>\n",
              "      <td>NaN</td>\n",
              "      <td>NaN</td>\n",
              "    </tr>\n",
              "    <tr>\n",
              "      <th>2</th>\n",
              "      <td>Took Prescription Medication for Mental Health...</td>\n",
              "      <td>By Age</td>\n",
              "      <td>United States</td>\n",
              "      <td>30 - 39 years</td>\n",
              "      <td>2</td>\n",
              "      <td>13</td>\n",
              "      <td>Aug 19 - Aug 31, 2020</td>\n",
              "      <td>08/19/2020</td>\n",
              "      <td>08/31/2020</td>\n",
              "      <td>18.3</td>\n",
              "      <td>17.3</td>\n",
              "      <td>19.2</td>\n",
              "      <td>17.3 - 19.2</td>\n",
              "      <td>NaN</td>\n",
              "      <td>NaN</td>\n",
              "    </tr>\n",
              "    <tr>\n",
              "      <th>3</th>\n",
              "      <td>Took Prescription Medication for Mental Health...</td>\n",
              "      <td>By Age</td>\n",
              "      <td>United States</td>\n",
              "      <td>40 - 49 years</td>\n",
              "      <td>2</td>\n",
              "      <td>13</td>\n",
              "      <td>Aug 19 - Aug 31, 2020</td>\n",
              "      <td>08/19/2020</td>\n",
              "      <td>08/31/2020</td>\n",
              "      <td>20.4</td>\n",
              "      <td>19.5</td>\n",
              "      <td>21.3</td>\n",
              "      <td>19.5 - 21.3</td>\n",
              "      <td>NaN</td>\n",
              "      <td>NaN</td>\n",
              "    </tr>\n",
              "    <tr>\n",
              "      <th>4</th>\n",
              "      <td>Took Prescription Medication for Mental Health...</td>\n",
              "      <td>By Age</td>\n",
              "      <td>United States</td>\n",
              "      <td>50 - 59 years</td>\n",
              "      <td>2</td>\n",
              "      <td>13</td>\n",
              "      <td>Aug 19 - Aug 31, 2020</td>\n",
              "      <td>08/19/2020</td>\n",
              "      <td>08/31/2020</td>\n",
              "      <td>21.2</td>\n",
              "      <td>20.2</td>\n",
              "      <td>22.2</td>\n",
              "      <td>20.2 - 22.2</td>\n",
              "      <td>NaN</td>\n",
              "      <td>NaN</td>\n",
              "    </tr>\n",
              "    <tr>\n",
              "      <th>...</th>\n",
              "      <td>...</td>\n",
              "      <td>...</td>\n",
              "      <td>...</td>\n",
              "      <td>...</td>\n",
              "      <td>...</td>\n",
              "      <td>...</td>\n",
              "      <td>...</td>\n",
              "      <td>...</td>\n",
              "      <td>...</td>\n",
              "      <td>...</td>\n",
              "      <td>...</td>\n",
              "      <td>...</td>\n",
              "      <td>...</td>\n",
              "      <td>...</td>\n",
              "      <td>...</td>\n",
              "    </tr>\n",
              "    <tr>\n",
              "      <th>10399</th>\n",
              "      <td>Needed Counseling or Therapy But Did Not Get I...</td>\n",
              "      <td>By State</td>\n",
              "      <td>Virginia</td>\n",
              "      <td>Virginia</td>\n",
              "      <td>3.4</td>\n",
              "      <td>45</td>\n",
              "      <td>Apr 27 - May 9, 2022</td>\n",
              "      <td>04/27/2022</td>\n",
              "      <td>05/09/2022</td>\n",
              "      <td>10.1</td>\n",
              "      <td>7.1</td>\n",
              "      <td>13.8</td>\n",
              "      <td>7.1 - 13.8</td>\n",
              "      <td>9.6-11.3</td>\n",
              "      <td>NaN</td>\n",
              "    </tr>\n",
              "    <tr>\n",
              "      <th>10400</th>\n",
              "      <td>Needed Counseling or Therapy But Did Not Get I...</td>\n",
              "      <td>By State</td>\n",
              "      <td>Washington</td>\n",
              "      <td>Washington</td>\n",
              "      <td>3.4</td>\n",
              "      <td>45</td>\n",
              "      <td>Apr 27 - May 9, 2022</td>\n",
              "      <td>04/27/2022</td>\n",
              "      <td>05/09/2022</td>\n",
              "      <td>14.8</td>\n",
              "      <td>12.5</td>\n",
              "      <td>17.4</td>\n",
              "      <td>12.5 - 17.4</td>\n",
              "      <td>13.0-20.8</td>\n",
              "      <td>NaN</td>\n",
              "    </tr>\n",
              "    <tr>\n",
              "      <th>10401</th>\n",
              "      <td>Needed Counseling or Therapy But Did Not Get I...</td>\n",
              "      <td>By State</td>\n",
              "      <td>West Virginia</td>\n",
              "      <td>West Virginia</td>\n",
              "      <td>3.4</td>\n",
              "      <td>45</td>\n",
              "      <td>Apr 27 - May 9, 2022</td>\n",
              "      <td>04/27/2022</td>\n",
              "      <td>05/09/2022</td>\n",
              "      <td>9.8</td>\n",
              "      <td>6.6</td>\n",
              "      <td>13.8</td>\n",
              "      <td>6.6 - 13.8</td>\n",
              "      <td>9.6-11.3</td>\n",
              "      <td>NaN</td>\n",
              "    </tr>\n",
              "    <tr>\n",
              "      <th>10402</th>\n",
              "      <td>Needed Counseling or Therapy But Did Not Get I...</td>\n",
              "      <td>By State</td>\n",
              "      <td>Wisconsin</td>\n",
              "      <td>Wisconsin</td>\n",
              "      <td>3.4</td>\n",
              "      <td>45</td>\n",
              "      <td>Apr 27 - May 9, 2022</td>\n",
              "      <td>04/27/2022</td>\n",
              "      <td>05/09/2022</td>\n",
              "      <td>11.6</td>\n",
              "      <td>8.5</td>\n",
              "      <td>15.3</td>\n",
              "      <td>8.5 - 15.3</td>\n",
              "      <td>11.4-12.9</td>\n",
              "      <td>NaN</td>\n",
              "    </tr>\n",
              "    <tr>\n",
              "      <th>10403</th>\n",
              "      <td>Needed Counseling or Therapy But Did Not Get I...</td>\n",
              "      <td>By State</td>\n",
              "      <td>Wyoming</td>\n",
              "      <td>Wyoming</td>\n",
              "      <td>3.4</td>\n",
              "      <td>45</td>\n",
              "      <td>Apr 27 - May 9, 2022</td>\n",
              "      <td>04/27/2022</td>\n",
              "      <td>05/09/2022</td>\n",
              "      <td>11.5</td>\n",
              "      <td>8.6</td>\n",
              "      <td>15.1</td>\n",
              "      <td>8.6 - 15.1</td>\n",
              "      <td>11.4-12.9</td>\n",
              "      <td>NaN</td>\n",
              "    </tr>\n",
              "  </tbody>\n",
              "</table>\n",
              "<p>10404 rows × 15 columns</p>\n",
              "</div>\n",
              "    <div class=\"colab-df-buttons\">\n",
              "\n",
              "  <div class=\"colab-df-container\">\n",
              "    <button class=\"colab-df-convert\" onclick=\"convertToInteractive('df-d2d241e5-c004-49ca-a04e-225562d9a84b')\"\n",
              "            title=\"Convert this dataframe to an interactive table.\"\n",
              "            style=\"display:none;\">\n",
              "\n",
              "  <svg xmlns=\"http://www.w3.org/2000/svg\" height=\"24px\" viewBox=\"0 -960 960 960\">\n",
              "    <path d=\"M120-120v-720h720v720H120Zm60-500h600v-160H180v160Zm220 220h160v-160H400v160Zm0 220h160v-160H400v160ZM180-400h160v-160H180v160Zm440 0h160v-160H620v160ZM180-180h160v-160H180v160Zm440 0h160v-160H620v160Z\"/>\n",
              "  </svg>\n",
              "    </button>\n",
              "\n",
              "  <style>\n",
              "    .colab-df-container {\n",
              "      display:flex;\n",
              "      gap: 12px;\n",
              "    }\n",
              "\n",
              "    .colab-df-convert {\n",
              "      background-color: #E8F0FE;\n",
              "      border: none;\n",
              "      border-radius: 50%;\n",
              "      cursor: pointer;\n",
              "      display: none;\n",
              "      fill: #1967D2;\n",
              "      height: 32px;\n",
              "      padding: 0 0 0 0;\n",
              "      width: 32px;\n",
              "    }\n",
              "\n",
              "    .colab-df-convert:hover {\n",
              "      background-color: #E2EBFA;\n",
              "      box-shadow: 0px 1px 2px rgba(60, 64, 67, 0.3), 0px 1px 3px 1px rgba(60, 64, 67, 0.15);\n",
              "      fill: #174EA6;\n",
              "    }\n",
              "\n",
              "    .colab-df-buttons div {\n",
              "      margin-bottom: 4px;\n",
              "    }\n",
              "\n",
              "    [theme=dark] .colab-df-convert {\n",
              "      background-color: #3B4455;\n",
              "      fill: #D2E3FC;\n",
              "    }\n",
              "\n",
              "    [theme=dark] .colab-df-convert:hover {\n",
              "      background-color: #434B5C;\n",
              "      box-shadow: 0px 1px 3px 1px rgba(0, 0, 0, 0.15);\n",
              "      filter: drop-shadow(0px 1px 2px rgba(0, 0, 0, 0.3));\n",
              "      fill: #FFFFFF;\n",
              "    }\n",
              "  </style>\n",
              "\n",
              "    <script>\n",
              "      const buttonEl =\n",
              "        document.querySelector('#df-d2d241e5-c004-49ca-a04e-225562d9a84b button.colab-df-convert');\n",
              "      buttonEl.style.display =\n",
              "        google.colab.kernel.accessAllowed ? 'block' : 'none';\n",
              "\n",
              "      async function convertToInteractive(key) {\n",
              "        const element = document.querySelector('#df-d2d241e5-c004-49ca-a04e-225562d9a84b');\n",
              "        const dataTable =\n",
              "          await google.colab.kernel.invokeFunction('convertToInteractive',\n",
              "                                                    [key], {});\n",
              "        if (!dataTable) return;\n",
              "\n",
              "        const docLinkHtml = 'Like what you see? Visit the ' +\n",
              "          '<a target=\"_blank\" href=https://colab.research.google.com/notebooks/data_table.ipynb>data table notebook</a>'\n",
              "          + ' to learn more about interactive tables.';\n",
              "        element.innerHTML = '';\n",
              "        dataTable['output_type'] = 'display_data';\n",
              "        await google.colab.output.renderOutput(dataTable, element);\n",
              "        const docLink = document.createElement('div');\n",
              "        docLink.innerHTML = docLinkHtml;\n",
              "        element.appendChild(docLink);\n",
              "      }\n",
              "    </script>\n",
              "  </div>\n",
              "\n",
              "\n",
              "<div id=\"df-6151f8f6-f0d3-491f-b0ce-0af534c9ff8f\">\n",
              "  <button class=\"colab-df-quickchart\" onclick=\"quickchart('df-6151f8f6-f0d3-491f-b0ce-0af534c9ff8f')\"\n",
              "            title=\"Suggest charts\"\n",
              "            style=\"display:none;\">\n",
              "\n",
              "<svg xmlns=\"http://www.w3.org/2000/svg\" height=\"24px\"viewBox=\"0 0 24 24\"\n",
              "     width=\"24px\">\n",
              "    <g>\n",
              "        <path d=\"M19 3H5c-1.1 0-2 .9-2 2v14c0 1.1.9 2 2 2h14c1.1 0 2-.9 2-2V5c0-1.1-.9-2-2-2zM9 17H7v-7h2v7zm4 0h-2V7h2v10zm4 0h-2v-4h2v4z\"/>\n",
              "    </g>\n",
              "</svg>\n",
              "  </button>\n",
              "\n",
              "<style>\n",
              "  .colab-df-quickchart {\n",
              "      --bg-color: #E8F0FE;\n",
              "      --fill-color: #1967D2;\n",
              "      --hover-bg-color: #E2EBFA;\n",
              "      --hover-fill-color: #174EA6;\n",
              "      --disabled-fill-color: #AAA;\n",
              "      --disabled-bg-color: #DDD;\n",
              "  }\n",
              "\n",
              "  [theme=dark] .colab-df-quickchart {\n",
              "      --bg-color: #3B4455;\n",
              "      --fill-color: #D2E3FC;\n",
              "      --hover-bg-color: #434B5C;\n",
              "      --hover-fill-color: #FFFFFF;\n",
              "      --disabled-bg-color: #3B4455;\n",
              "      --disabled-fill-color: #666;\n",
              "  }\n",
              "\n",
              "  .colab-df-quickchart {\n",
              "    background-color: var(--bg-color);\n",
              "    border: none;\n",
              "    border-radius: 50%;\n",
              "    cursor: pointer;\n",
              "    display: none;\n",
              "    fill: var(--fill-color);\n",
              "    height: 32px;\n",
              "    padding: 0;\n",
              "    width: 32px;\n",
              "  }\n",
              "\n",
              "  .colab-df-quickchart:hover {\n",
              "    background-color: var(--hover-bg-color);\n",
              "    box-shadow: 0 1px 2px rgba(60, 64, 67, 0.3), 0 1px 3px 1px rgba(60, 64, 67, 0.15);\n",
              "    fill: var(--button-hover-fill-color);\n",
              "  }\n",
              "\n",
              "  .colab-df-quickchart-complete:disabled,\n",
              "  .colab-df-quickchart-complete:disabled:hover {\n",
              "    background-color: var(--disabled-bg-color);\n",
              "    fill: var(--disabled-fill-color);\n",
              "    box-shadow: none;\n",
              "  }\n",
              "\n",
              "  .colab-df-spinner {\n",
              "    border: 2px solid var(--fill-color);\n",
              "    border-color: transparent;\n",
              "    border-bottom-color: var(--fill-color);\n",
              "    animation:\n",
              "      spin 1s steps(1) infinite;\n",
              "  }\n",
              "\n",
              "  @keyframes spin {\n",
              "    0% {\n",
              "      border-color: transparent;\n",
              "      border-bottom-color: var(--fill-color);\n",
              "      border-left-color: var(--fill-color);\n",
              "    }\n",
              "    20% {\n",
              "      border-color: transparent;\n",
              "      border-left-color: var(--fill-color);\n",
              "      border-top-color: var(--fill-color);\n",
              "    }\n",
              "    30% {\n",
              "      border-color: transparent;\n",
              "      border-left-color: var(--fill-color);\n",
              "      border-top-color: var(--fill-color);\n",
              "      border-right-color: var(--fill-color);\n",
              "    }\n",
              "    40% {\n",
              "      border-color: transparent;\n",
              "      border-right-color: var(--fill-color);\n",
              "      border-top-color: var(--fill-color);\n",
              "    }\n",
              "    60% {\n",
              "      border-color: transparent;\n",
              "      border-right-color: var(--fill-color);\n",
              "    }\n",
              "    80% {\n",
              "      border-color: transparent;\n",
              "      border-right-color: var(--fill-color);\n",
              "      border-bottom-color: var(--fill-color);\n",
              "    }\n",
              "    90% {\n",
              "      border-color: transparent;\n",
              "      border-bottom-color: var(--fill-color);\n",
              "    }\n",
              "  }\n",
              "</style>\n",
              "\n",
              "  <script>\n",
              "    async function quickchart(key) {\n",
              "      const quickchartButtonEl =\n",
              "        document.querySelector('#' + key + ' button');\n",
              "      quickchartButtonEl.disabled = true;  // To prevent multiple clicks.\n",
              "      quickchartButtonEl.classList.add('colab-df-spinner');\n",
              "      try {\n",
              "        const charts = await google.colab.kernel.invokeFunction(\n",
              "            'suggestCharts', [key], {});\n",
              "      } catch (error) {\n",
              "        console.error('Error during call to suggestCharts:', error);\n",
              "      }\n",
              "      quickchartButtonEl.classList.remove('colab-df-spinner');\n",
              "      quickchartButtonEl.classList.add('colab-df-quickchart-complete');\n",
              "    }\n",
              "    (() => {\n",
              "      let quickchartButtonEl =\n",
              "        document.querySelector('#df-6151f8f6-f0d3-491f-b0ce-0af534c9ff8f button');\n",
              "      quickchartButtonEl.style.display =\n",
              "        google.colab.kernel.accessAllowed ? 'block' : 'none';\n",
              "    })();\n",
              "  </script>\n",
              "</div>\n",
              "    </div>\n",
              "  </div>\n"
            ]
          },
          "metadata": {},
          "execution_count": 19
        }
      ],
      "source": [
        "import pandas as pd\n",
        "data=pd.read_csv('/content/Mental_Health_Care_in_the_Last_4_Weeks.csv')\n",
        "data"
      ]
    },
    {
      "cell_type": "code",
      "source": [
        "data.info()"
      ],
      "metadata": {
        "colab": {
          "base_uri": "https://localhost:8080/"
        },
        "id": "vuRLzZj9Vo6u",
        "outputId": "9b1cc39a-f723-4546-e8f9-2625fa671043"
      },
      "execution_count": null,
      "outputs": [
        {
          "output_type": "stream",
          "name": "stdout",
          "text": [
            "<class 'pandas.core.frame.DataFrame'>\n",
            "RangeIndex: 10404 entries, 0 to 10403\n",
            "Data columns (total 15 columns):\n",
            " #   Column                  Non-Null Count  Dtype  \n",
            "---  ------                  --------------  -----  \n",
            " 0   Indicator               10404 non-null  object \n",
            " 1   Group                   10404 non-null  object \n",
            " 2   State                   10404 non-null  object \n",
            " 3   Subgroup                10404 non-null  object \n",
            " 4   Phase                   10404 non-null  object \n",
            " 5   Time Period             10404 non-null  int64  \n",
            " 6   Time Period Label       10404 non-null  object \n",
            " 7   Time Period Start Date  10404 non-null  object \n",
            " 8   Time Period End Date    10404 non-null  object \n",
            " 9   Value                   9914 non-null   float64\n",
            " 10  LowCI                   9914 non-null   float64\n",
            " 11  HighCI                  9914 non-null   float64\n",
            " 12  Confidence Interval     9914 non-null   object \n",
            " 13  Quartile Range          6732 non-null   object \n",
            " 14  Suppression Flag        22 non-null     float64\n",
            "dtypes: float64(4), int64(1), object(10)\n",
            "memory usage: 1.2+ MB\n"
          ]
        }
      ]
    },
    {
      "cell_type": "markdown",
      "source": [
        "The dataset consists of 10,404 entries, with each entry containing information about mental health indicators in the United States. The columns include details such as the type of indicator, participant group, state, subgroup, phase, time period, and corresponding values. Notably, some entries have missing values in the 'Value,' 'LowCI,' 'HighCI,' 'Confidence Interval,' 'Quartile Range,' and 'Suppression Flag' columns, indicating potential data gaps. The dataset employs various data types, including objects for categorical information, integers for numerical values, and floating-point numbers for statistical measures. The 'Time Period Start Date' and 'Time Period End Date' columns are in datetime format, facilitating time-based analysis. Overall, this dataset is structured to capture diverse aspects of mental health care, offering insights into the impacts of the COVID-19 pandemic on the well-being of individuals across different demographics and geographic locations in the specified time periods."
      ],
      "metadata": {
        "id": "Y2Vb7Oinmq-N"
      }
    },
    {
      "cell_type": "markdown",
      "source": [
        "#TensorFlow"
      ],
      "metadata": {
        "id": "gEk8ka-izS7l"
      }
    },
    {
      "cell_type": "markdown",
      "source": [
        "#Data Preprocessing"
      ],
      "metadata": {
        "id": "hUWowTJcjpQx"
      }
    },
    {
      "cell_type": "code",
      "source": [
        "import pandas as pd\n",
        "from sklearn.model_selection import train_test_split\n",
        "from sklearn.preprocessing import StandardScaler, LabelEncoder\n",
        "from sklearn.impute import SimpleImputer\n",
        "import tensorflow as tf\n",
        "import numpy as np\n",
        "\n",
        "\n",
        "\n",
        "numeric_features = ['Value', 'LowCI', 'HighCI', 'Start Month', 'Start Year']\n",
        "X = df[numeric_features]\n",
        "y = df['Value']"
      ],
      "metadata": {
        "id": "xaF4HkRrjhnQ"
      },
      "execution_count": null,
      "outputs": []
    },
    {
      "cell_type": "markdown",
      "source": [
        "This code snippet extracts specific numeric features ('Value', 'LowCI', 'HighCI', 'Start Month', 'Start Year') from the DataFrame 'df' and assigns them to the input variable 'X'. The target variable 'y' is assigned the values from the 'Value' column, preparing the data for machine learning tasks."
      ],
      "metadata": {
        "id": "G1myMYx5nA9R"
      }
    },
    {
      "cell_type": "markdown",
      "source": [
        "#Splitting Data"
      ],
      "metadata": {
        "id": "aGgTFMGHoiCO"
      }
    },
    {
      "cell_type": "code",
      "source": [
        "# Convert data types to ensure compatibility with TensorFlow\n",
        "X = X.astype(np.float32)\n",
        "y = y.astype(np.float32)\n",
        "\n",
        "# Split the data into training and testing sets\n",
        "X_train, X_test, y_train, y_test = train_test_split(X, y, test_size=0.2, random_state=42)"
      ],
      "metadata": {
        "id": "AIiDM2y5juk0"
      },
      "execution_count": null,
      "outputs": []
    },
    {
      "cell_type": "markdown",
      "source": [
        "The above  code converts the data types of the input features 'X' and the target variable 'y' to 32-bit floating-point numbers using NumPy's `astype` method, ensuring compatibility with TensorFlow, which typically expects input data in this format. Subsequently, the dataset is divided into training and testing sets using the `train_test_split` function from scikit-learn. The split is stratified, with 20% of the data reserved for testing, and a fixed random seed (42) is set for reproducibility. This step is crucial for assessing the model's performance on unseen data during evaluation."
      ],
      "metadata": {
        "id": "u13T4YPcnMf5"
      }
    },
    {
      "cell_type": "markdown",
      "source": [
        "#Model"
      ],
      "metadata": {
        "id": "PQYs6tVInQj0"
      }
    },
    {
      "cell_type": "code",
      "source": [
        "\n",
        "model = tf.keras.Sequential([\n",
        "    tf.keras.layers.Dense(128, activation='relu', input_shape=(X_train.shape[1],)),\n",
        "    tf.keras.layers.Dense(64, activation='relu'),\n",
        "    tf.keras.layers.Dense(1)\n",
        "])\n",
        "\n",
        "model.compile(optimizer='adam', loss='mean_squared_error')  # Regression loss\n",
        "\n",
        "# Train the model\n",
        "history = model.fit(X_train, y_train, epochs=10, batch_size=32, validation_data=(X_test, y_test))\n",
        "\n",
        "# Evaluate the model\n",
        "loss = model.evaluate(X_test, y_test)\n",
        "print(f'Mean Squared Error on Test Data: {loss}')"
      ],
      "metadata": {
        "colab": {
          "base_uri": "https://localhost:8080/"
        },
        "id": "WjED_XdcjxgR",
        "outputId": "699b2480-f71f-432d-ebc4-e2e2fdbafba2"
      },
      "execution_count": null,
      "outputs": [
        {
          "output_type": "stream",
          "name": "stdout",
          "text": [
            "Epoch 1/10\n",
            "261/261 [==============================] - 2s 3ms/step - loss: 210.0502 - val_loss: 0.3982\n",
            "Epoch 2/10\n",
            "261/261 [==============================] - 1s 2ms/step - loss: 0.0790 - val_loss: 0.0431\n",
            "Epoch 3/10\n",
            "261/261 [==============================] - 1s 3ms/step - loss: 0.0312 - val_loss: 0.0957\n",
            "Epoch 4/10\n",
            "261/261 [==============================] - 1s 5ms/step - loss: 0.0141 - val_loss: 0.0125\n",
            "Epoch 5/10\n",
            "261/261 [==============================] - 3s 13ms/step - loss: 0.0055 - val_loss: 0.0056\n",
            "Epoch 6/10\n",
            "261/261 [==============================] - 3s 10ms/step - loss: 0.0020 - val_loss: 0.0022\n",
            "Epoch 7/10\n",
            "261/261 [==============================] - 1s 6ms/step - loss: 0.0011 - val_loss: 0.0012\n",
            "Epoch 8/10\n",
            "261/261 [==============================] - 2s 7ms/step - loss: 8.1007e-04 - val_loss: 6.4812e-04\n",
            "Epoch 9/10\n",
            "261/261 [==============================] - 2s 7ms/step - loss: 3.9278 - val_loss: 3.2439\n",
            "Epoch 10/10\n",
            "261/261 [==============================] - 1s 4ms/step - loss: 6.5850 - val_loss: 0.6762\n",
            "66/66 [==============================] - 0s 2ms/step - loss: 0.6762\n",
            "Mean Squared Error on Test Data: 0.6762422323226929\n"
          ]
        }
      ]
    },
    {
      "cell_type": "markdown",
      "source": [
        "The provided code initializes a simple neural network model using TensorFlow's Keras API for regression tasks. The model consists of three dense layers, with the first layer having 128 neurons and a rectified linear unit (ReLU) activation function, the second layer with 64 neurons and ReLU activation, and the third layer with a single neuron, indicating regression, without any activation function. The model is compiled using the Adam optimizer and mean squared error loss, a common choice for regression problems. During training, the model undergoes 10 epochs with a batch size of 32, optimizing its parameters to minimize the mean squared error on the training data. The training history is stored in the 'history' variable. The evaluation phase calculates the mean squared error on the test data, providing a quantitative measure of the model's performance on unseen examples. In this specific run, the mean squared error on the test data is 0.6762. It's important to note that this value should be interpreted relative to the scale of the target variable."
      ],
      "metadata": {
        "id": "mxPFBUbQnc9Z"
      }
    },
    {
      "cell_type": "markdown",
      "source": [
        "# Plotting"
      ],
      "metadata": {
        "id": "DdPDDhRXjzjN"
      }
    },
    {
      "cell_type": "code",
      "source": [
        "import matplotlib.pyplot as plt\n",
        "\n",
        "# Plot training and validation loss\n",
        "plt.plot(history.history['loss'], label='Training Loss')\n",
        "plt.plot(history.history['val_loss'], label='Validation Loss')\n",
        "plt.title('Training and Validation Loss')\n",
        "plt.xlabel('Epochs')\n",
        "plt.ylabel('Loss')\n",
        "plt.legend()\n",
        "plt.show()\n",
        "\n",
        "# Predictions\n",
        "y_pred = model.predict(X_test)\n",
        "\n",
        "# Plot actual vs. predicted values\n",
        "plt.scatter(y_test, y_pred,c='blue', label='Actual vs. Predicted')\n",
        "plt.title('Actual vs. Predicted Values')\n",
        "plt.xlabel('Actual Values')\n",
        "plt.ylabel('Predicted Values')\n",
        "plt.show()\n",
        "\n"
      ],
      "metadata": {
        "colab": {
          "base_uri": "https://localhost:8080/",
          "height": 944
        },
        "id": "uNr--C2wjU-I",
        "outputId": "4d8ba400-f164-401d-e1f9-fecadffec36a"
      },
      "execution_count": null,
      "outputs": [
        {
          "output_type": "display_data",
          "data": {
            "text/plain": [
              "<Figure size 640x480 with 1 Axes>"
            ],
            "image/png": "[encoded data removed]"
          },
          "metadata": {}
        },
        {
          "output_type": "stream",
          "name": "stdout",
          "text": [
            "66/66 [==============================] - 0s 2ms/step\n"
          ]
        },
        {
          "output_type": "display_data",
          "data": {
            "text/plain": [
              "<Figure size 640x480 with 1 Axes>"
            ],
            "image/png": "[encoded data removed]"
          },
          "metadata": {}
        }
      ]
    },
    {
      "cell_type": "markdown",
      "source": [
        "The plot illustrates the training and validation loss over ten epochs during the neural network model's training. Initially, both training and validation losses decrease, indicating that the model is learning and generalizing well. However, after approximately six epochs, the validation loss starts to deviate slightly upward, suggesting potential overfitting, where the model performs well on the training data but struggles to generalize to new, unseen data. This divergence can be monitored to make informed decisions about the optimal number of training epochs or the need for regularization techniques to enhance the model's generalization capabilities."
      ],
      "metadata": {
        "id": "R03zOMlYnl0G"
      }
    },
    {
      "cell_type": "markdown",
      "source": [
        "#Pytorch"
      ],
      "metadata": {
        "id": "k1n6RYgHnoUl"
      }
    },
    {
      "cell_type": "code",
      "source": [
        "import torch\n",
        "import torch.nn as nn\n",
        "import torch.optim as optim\n",
        "from torch.utils.data import DataLoader, TensorDataset\n",
        "\n",
        "# Convert data to PyTorch tensors\n",
        "X_train_tensor = torch.tensor(X_train.values, dtype=torch.float32)\n",
        "y_train_tensor = torch.tensor(y_train.values, dtype=torch.float32)\n",
        "X_test_tensor = torch.tensor(X_test.values, dtype=torch.float32)\n",
        "y_test_tensor = torch.tensor(y_test.values, dtype=torch.float32)\n",
        "\n",
        "# Create a PyTorch dataset\n",
        "train_dataset = TensorDataset(X_train_tensor, y_train_tensor)\n",
        "test_dataset = TensorDataset(X_test_tensor, y_test_tensor)\n",
        "\n",
        "# Create PyTorch data loaders\n",
        "batch_size = 32\n",
        "train_loader = DataLoader(train_dataset, batch_size=batch_size, shuffle=True)\n",
        "test_loader = DataLoader(test_dataset, batch_size=batch_size, shuffle=False)"
      ],
      "metadata": {
        "id": "odPcC2o0n8No"
      },
      "execution_count": null,
      "outputs": []
    },
    {
      "cell_type": "markdown",
      "source": [
        "In this, the data is first converted into PyTorch tensors, which are the fundamental data structures in PyTorch. These tensors represent the input features (X) and target variable (y) for both the training and testing datasets. Subsequently, PyTorch datasets (train_dataset and test_dataset) are created using these tensors. These datasets are then used to create PyTorch data loaders (train_loader and test_loader), which facilitate efficient batch-wise processing of the data during training and evaluation."
      ],
      "metadata": {
        "id": "VdqTZv-Yn88b"
      }
    },
    {
      "cell_type": "markdown",
      "source": [
        "# PyTorch model"
      ],
      "metadata": {
        "id": "lxlpFqLXor1A"
      }
    },
    {
      "cell_type": "code",
      "source": [
        "\n",
        "class PyTorchModel(nn.Module):\n",
        "    def __init__(self, input_size):\n",
        "        super(PyTorchModel, self).__init__()\n",
        "        self.fc1 = nn.Linear(input_size, 128)\n",
        "        self.relu = nn.ReLU()\n",
        "        self.fc2 = nn.Linear(128, 64)\n",
        "        self.fc3 = nn.Linear(64, 1)\n",
        "\n",
        "    def forward(self, x):\n",
        "        x = self.fc1(x)\n",
        "        x = self.relu(x)\n",
        "        x = self.fc2(x)\n",
        "        x = self.relu(x)\n",
        "        x = self.fc3(x)\n",
        "        return x\n"
      ],
      "metadata": {
        "id": "lrOEjGXGoH-5"
      },
      "execution_count": null,
      "outputs": []
    },
    {
      "cell_type": "markdown",
      "source": [
        "The PyTorch model, named PyTorchModel, is defined as a subclass of nn.Module. It consists of three fully connected layers (fc1, fc2, and fc3) with ReLU activation functions applied between them. The model is initialized with the specified input size, which corresponds to the number of features in the input data. Additionally, the mean squared error (MSE) loss function and the Adam optimizer are defined for model training."
      ],
      "metadata": {
        "id": "3oI-GPbroGqG"
      }
    },
    {
      "cell_type": "markdown",
      "source": [
        "# Training the PyTorch model"
      ],
      "metadata": {
        "id": "CVXVFMsioyJD"
      }
    },
    {
      "cell_type": "code",
      "source": [
        "\n",
        "# Initialize the PyTorch model\n",
        "input_size = X_train.shape[1]\n",
        "pytorch_model = PyTorchModel(input_size)\n",
        "\n",
        "# Define loss function and optimizer\n",
        "criterion = nn.MSELoss()\n",
        "optimizer = optim.Adam(pytorch_model.parameters(), lr=0.001)\n",
        "\n",
        "# Train the PyTorch model\n",
        "num_epochs = 10\n",
        "for epoch in range(num_epochs):\n",
        "    pytorch_model.train()\n",
        "    for batch_X, batch_y in train_loader:\n",
        "        optimizer.zero_grad()\n",
        "        output = pytorch_model(batch_X)\n",
        "        loss = criterion(output.squeeze(), batch_y)\n",
        "        loss.backward()\n",
        "        optimizer.step()\n",
        "\n",
        "# Evaluate the PyTorch model\n",
        "pytorch_model.eval()\n",
        "with torch.no_grad():\n",
        "    y_pred_pytorch = pytorch_model(X_test_tensor).numpy()"
      ],
      "metadata": {
        "id": "s2t35rwBoOrL"
      },
      "execution_count": null,
      "outputs": []
    },
    {
      "cell_type": "markdown",
      "source": [
        "The training loop is executed for a specified number of epochs (num_epochs), during which the model parameters are updated to minimize the MSE loss. The model is set to training mode (pytorch_model.train()) within the loop, and for each batch of training data, the optimizer parameters are zeroed, and the forward and backward passes are performed. The model is then evaluated on the test data (X_test_tensor) to obtain predictions (y_pred_pytorch) in evaluation mode (pytorch_model.eval()), using the trained model and without updating the model parameters."
      ],
      "metadata": {
        "id": "xnOOeCaHoOQK"
      }
    },
    {
      "cell_type": "markdown",
      "source": [
        "#Plotting"
      ],
      "metadata": {
        "id": "TxCskwlMo0lP"
      }
    },
    {
      "cell_type": "code",
      "source": [
        "\n",
        "plt.scatter(y_test, y_pred, label='Actual', color='blue', alpha=0.5)\n",
        "plt.scatter(y_test, y_pred_pytorch, label='Predicted (PyTorch)', color='red', alpha=0.5)\n",
        "plt.title('Actual vs. Predicted Values')\n",
        "plt.xlabel('Actual Values')\n",
        "plt.ylabel('Predicted Values')\n",
        "plt.legend()\n",
        "plt.show()\n",
        "\n"
      ],
      "metadata": {
        "colab": {
          "base_uri": "https://localhost:8080/",
          "height": 472
        },
        "id": "rSQVelBviaQc",
        "outputId": "50f5aff0-ee55-4ee1-cdfe-d8efea06e666"
      },
      "execution_count": null,
      "outputs": [
        {
          "output_type": "display_data",
          "data": {
            "text/plain": [
              "<Figure size 640x480 with 1 Axes>"
            ],
            "image/png": "[encoded data removed]"
          },
          "metadata": {}
        }
      ]
    },
    {
      "cell_type": "markdown",
      "source": [
        "Finally, the actual and predicted values from both the TensorFlow and PyTorch models are plotted on the same scatter plot for visual comparison. The actual values are shown in blue, while the predicted values from the PyTorch model are displayed in red. The alpha parameter is set to 0.5 for transparency, allowing overlapping points to be visible. The resulting plot provides a visual representation of how well the PyTorch model aligns with the predictions from the TensorFlow model."
      ],
      "metadata": {
        "id": "HuK08yJWoYlV"
      }
    },
    {
      "cell_type": "markdown",
      "source": [
        "#Confusion Matrix"
      ],
      "metadata": {
        "id": "esS4mtMUo3YY"
      }
    },
    {
      "cell_type": "code",
      "source": [
        "import numpy as np\n",
        "\n",
        "# Convert predictions to NumPy arrays\n",
        "y_pred_numpy = y_pred.flatten()\n",
        "y_pred_pytorch_numpy = y_pred_pytorch.flatten()\n",
        "\n",
        "# Combine actual values and predictions into a DataFrame\n",
        "results_df = pd.DataFrame({\n",
        "    'Actual': y_test,\n",
        "    'Predicted_TensorFlow': y_pred_numpy,\n",
        "    'Predicted_PyTorch': y_pred_pytorch_numpy\n",
        "})\n",
        "\n",
        "# Calculate the correlation matrix\n",
        "correlation_matrix = results_df.corr()\n",
        "\n",
        "# Print the correlation matrix\n",
        "print(\"Correlation Matrix:\")\n",
        "print(correlation_matrix)\n",
        "\n",
        "# Plot the correlation matrix\n",
        "import seaborn as sns\n",
        "plt.figure(figsize=(10, 8))\n",
        "sns.heatmap(correlation_matrix, annot=True, cmap='coolwarm', fmt='.2f', linewidths=.5)\n",
        "plt.title('Correlation Matrix')\n",
        "plt.show()\n"
      ],
      "metadata": {
        "colab": {
          "base_uri": "https://localhost:8080/",
          "height": 786
        },
        "id": "EV_xfpKIiaKN",
        "outputId": "cd8b36c6-a69e-4701-fbd0-f4416c147780"
      },
      "execution_count": null,
      "outputs": [
        {
          "output_type": "stream",
          "name": "stdout",
          "text": [
            "Correlation Matrix:\n",
            "                        Actual  Predicted_TensorFlow  Predicted_PyTorch\n",
            "Actual                1.000000              0.999169           0.999897\n",
            "Predicted_TensorFlow  0.999169              1.000000           0.998798\n",
            "Predicted_PyTorch     0.999897              0.998798           1.000000\n"
          ]
        },
        {
          "output_type": "display_data",
          "data": {
            "text/plain": [
              "<Figure size 1000x800 with 2 Axes>"
            ],
            "image/png": "[encoded data removed]"
          },
          "metadata": {}
        }
      ]
    },
    {
      "cell_type": "markdown",
      "source": [
        "The correlation matrix provides a quantitative assessment of the relationships between the actual values, TensorFlow model predictions, and PyTorch model predictions. The diagonal elements, representing the correlation of each variable with itself, are all 1.0, as expected. The off-diagonal elements indicate the degree of linear association between pairs of variables.\n",
        "\n",
        "In this specific case, the correlation between the actual values and TensorFlow model predictions is very high (close to 1.0), suggesting a strong linear relationship. Similarly, the correlation between the actual values and PyTorch model predictions is also very close to 1.0, indicating that both models capture the patterns in the data well. Additionally, the correlation between TensorFlow and PyTorch model predictions is high, reinforcing the consistency in their predictive performance. These high correlations suggest that both models produce predictions that align well with the actual values, supporting their effectiveness in capturing the underlying patterns in the dataset."
      ],
      "metadata": {
        "id": "P-I7dO-_pGfx"
      }
    },
    {
      "cell_type": "markdown",
      "source": [
        "#Conclusion\n",
        "\n",
        "In conclusion, the application of both TensorFlow and PyTorch models to predict mental health-related outcomes demonstrates their effectiveness in capturing the patterns within the dataset. The preprocessing steps, including data type conversions, splitting into training and testing sets, and standardization, contribute to the models' compatibility and robust training. The training and validation loss plots illustrate successful convergence during model training, and the mean squared error evaluation on the test set indicates satisfactory predictive performance for both frameworks. Furthermore, the correlation matrix highlights strong linear associations between actual values and predictions from both TensorFlow and PyTorch models. This consistency suggests that both frameworks provide reliable insights into mental health-related indicators, reinforcing their applicability in addressing such public health challenges."
      ],
      "metadata": {
        "id": "35X79Z3gpKjN"
      }
    },
    {
      "cell_type": "code",
      "source": [],
      "metadata": {
        "id": "yEXnzaqVpJ7Q"
      },
      "execution_count": null,
      "outputs": []
    },
    {
      "cell_type": "markdown",
      "source": [
        "#Dataset-2\n",
        "\n",
        "Autonomous Vehicle Survey of Bicyclists and Pedestrians in Pittsburgh\n",
        "Metadata Updated: January 24, 2023\n",
        "\n",
        "In Pittsburgh, Autonomous Vehicle (AV) companies have been testing autonomous vehicles since September 2016. However, the tech is new, and there have been some high-profile behavior that we believe warrants a larger conversation. So in early 2017, we set out to design a survey to see both how BikePGH donor-members, and Pittsburgh residents at large, feel about about sharing the road with AVs as a bicyclist and/or as a pedestrian. Our survey asked participants how they feel about being a fellow road user with AVs, either walking or biking. We also wanted to collect stories about people’s experiences interacting with this nascent technology. We are unaware of any public surveys about people’s feelings or understanding of this new technology. We hope that our results will help add to the body of data and help the public and politicians understand the complexity of possible futures that different economic models AV technology can bring to our cities and towncenters.\n",
        "\n",
        "We conducted our 2017 survey in two parts. First, we launched the survey exclusively to donor-members, yielding 321 responses (out of 2,900) via email. Once we closed the survey, we launched it again, but allowed the general public to take it. Through promoting it on our website, social media channels, and a few news articles, we yielded 798 responses (mostly from people in the Pittsburgh region), for a combined total of 1,119 responses.\n",
        "\n",
        "Regarding the 2019 survey: In total, 795 people responded. BikePGH solicited responses from their blog, website, and email list. There were also a few local news articles about the survey. While many questions were kept similar to the 2017 survey, BikePGH wanted to dig a bit deeper into regulations as well as demographics this time around.\n",
        "\n",
        "The 2019 follow up survey also aims to see how the landscape has changed, and how specifically, Pittsburghers on bike and on foot feel about sharing the road with AVs so that we’re all better prepared to deal with this new reality and help make sure that it is introduced as safely as humanly possible.\n",
        "\n",
        "https://catalog.data.gov/dataset/autonomous-vehicle-survey-of-bicyclists-and-pedestrians-in-pittsburgh\n"
      ],
      "metadata": {
        "id": "FkgndjWYXiAp"
      }
    },
    {
      "cell_type": "markdown",
      "source": [
        "#Dataset Description:\n",
        "The problem at hand involves analyzing survey data from the \"Autonomous Vehicle Survey of Bicyclists and Pedestrians in Pittsburgh.\" The dataset contains responses from individuals who participated in surveys conducted in 2017 and 2019. The goal is to understand people's sentiments, opinions, and experiences regarding the interaction of autonomous vehicles (AVs) with cyclists and pedestrians. The survey includes various factors such as familiarity with AV technology, perceived safety of AVs compared to human drivers, impact assessment, and demographic information. The challenge is to process and analyze this data using machine learning techniques to gain insights into public perceptions and identify trends or changes over the two survey periods.\n",
        "\n",
        "The dataset consists of 795 entries with 23 columns, capturing information such as RespondentID, survey dates, familiarity with AV technology, shared experiences with cyclists and pedestrians, perceived safety of AVs, and demographic details like age, zip code, and ownership of items like bikes, cars, and smartphones. The responses are a mix of numerical and categorical data, with some missing values. The dataset is sourced from BikePGH, an organization in Pittsburgh, and aims to contribute valuable insights into the public's understanding and acceptance of autonomous vehicles in the context of cycling and pedestrian activities.\n",
        "\n",
        "\n",
        "#Goal:\n",
        "The primary goal of this project is to employ machine learning techniques using both TensorFlow and PyTorch in a Jupyter Notebook environment. The objectives include data preprocessing, feature engineering, and building models to predict or analyze various aspects of the dataset. The analysis will focus on understanding how factors like familiarity with AV technology, perceived safety, and demographic variables influence respondents' opinions. The end result should provide valuable insights into the public sentiment towards autonomous vehicles, aiding in the broader conversation about integrating this technology into urban environments. The project aims to showcase proficiency in utilizing popular machine learning frameworks and effectively communicating findings through clear documentation and analysis."
      ],
      "metadata": {
        "id": "ErDSJ7KZrJop"
      }
    },
    {
      "cell_type": "code",
      "source": [
        "df=pd.read_csv('/content/avsurvey2019data.csv')\n",
        "df"
      ],
      "metadata": {
        "colab": {
          "base_uri": "https://localhost:8080/",
          "height": 669
        },
        "id": "rl-Y3f8NVzUb",
        "outputId": "7152f286-7fef-4f67-b010-a0fba28d6eda"
      },
      "execution_count": null,
      "outputs": [
        {
          "output_type": "execute_result",
          "data": {
            "text/plain": [
              "     RespondentID  StartDate    EndDate       FamiliarityNews  \\\n",
              "0     10505419886   2/2/2019   2/2/2019  To a moderate extent   \n",
              "1     10505138734   2/2/2019   2/2/2019  To a moderate extent   \n",
              "2     10504803283   2/1/2019   2/1/2019  To a moderate extent   \n",
              "3     10504337177   2/1/2019   2/1/2019  To a moderate extent   \n",
              "4     10504261546   2/1/2019   2/1/2019  To a moderate extent   \n",
              "..            ...        ...        ...                   ...   \n",
              "790   10470569905  1/16/2019  1/16/2019  To a moderate extent   \n",
              "791   10470569171  1/16/2019  1/16/2019  To a moderate extent   \n",
              "792   10470532863  1/16/2019  1/16/2019  To a moderate extent   \n",
              "793   10470438828  1/16/2019  1/16/2019        To some extent   \n",
              "794   10468563638  1/15/2019  1/15/2019     To a large extent   \n",
              "\n",
              "        FamiliarityTech SharedCyclist SharedPedestrian  SafeAv  SafeHuman  \\\n",
              "0     Somewhat familiar           Yes              Yes     4.0        2.0   \n",
              "1     Somewhat familiar           Yes               No     5.0        4.0   \n",
              "2     Somewhat familiar           Yes              Yes     1.0        4.0   \n",
              "3    Extremely familiar           Yes              Yes     2.0        3.0   \n",
              "4       Mostly familiar           Yes               No     5.0        3.0   \n",
              "..                  ...           ...              ...     ...        ...   \n",
              "790  Extremely familiar           Yes               No     4.0        2.0   \n",
              "791     Mostly familiar           Yes              Yes     4.0        2.0   \n",
              "792   Somewhat familiar           Yes              Yes     4.0        4.0   \n",
              "793   Somewhat familiar           Yes               No     5.0        1.0   \n",
              "794   Somewhat familiar           Yes              Yes     3.0        1.0   \n",
              "\n",
              "                 AvImpact  ... SchoolZoneManual ShareTripData  \\\n",
              "0    Significantly Better  ...               No      Not sure   \n",
              "1    Significantly Better  ...               No            No   \n",
              "2     Significantly Worse  ...               No            No   \n",
              "3          Slightly Worse  ...              Yes            No   \n",
              "4         Slightly Better  ...         Not sure           Yes   \n",
              "..                    ...  ...              ...           ...   \n",
              "790       Slightly Better  ...              Yes           Yes   \n",
              "791       Slightly Better  ...         Not sure           Yes   \n",
              "792  Significantly Better  ...              Yes           Yes   \n",
              "793  Significantly Better  ...               No            No   \n",
              "794       Slightly Better  ...               No           Yes   \n",
              "\n",
              "    SharePerformanceData ReportSafetyIncident  \\\n",
              "0                    Yes                  Yes   \n",
              "1                    Yes             Not sure   \n",
              "2                     No             Not sure   \n",
              "3                    Yes                  Yes   \n",
              "4                    Yes                   No   \n",
              "..                   ...                  ...   \n",
              "790                  Yes                  Yes   \n",
              "791                  Yes             Not sure   \n",
              "792                  Yes                  Yes   \n",
              "793                   No                  Yes   \n",
              "794                  Yes                  Yes   \n",
              "\n",
              "                            ArizonaCrash ZipCode BikePghMember AutoOwner  \\\n",
              "0                              No change   15212            No       Yes   \n",
              "1                              No change   15232      Not sure       Yes   \n",
              "2    Significantly more negative opinion     NaN            No        No   \n",
              "3                              No change   15136            No        No   \n",
              "4                              No change   15201           Yes        No   \n",
              "..                                   ...     ...           ...       ...   \n",
              "790       Somewhat more negative opinion   15236            No       Yes   \n",
              "791                            No change   15201           Yes       Yes   \n",
              "792                            No change   15201      Not sure       Yes   \n",
              "793                            No change   15217            No       Yes   \n",
              "794  Significantly more negative opinion   15209           Yes       Yes   \n",
              "\n",
              "    SmartphoneOwner    Age  \n",
              "0               Yes  25-34  \n",
              "1               Yes  25-34  \n",
              "2                No    NaN  \n",
              "3               Yes  55-64  \n",
              "4               Yes  35-44  \n",
              "..              ...    ...  \n",
              "790             Yes  45-54  \n",
              "791             Yes  35-44  \n",
              "792             Yes  35-44  \n",
              "793             Yes  55-64  \n",
              "794             Yes  25-34  \n",
              "\n",
              "[795 rows x 23 columns]"
            ],
            "text/html": [
              "\n",
              "  <div id=\"df-3ae461b4-6e9d-4b0c-9dae-62eb0d3b9887\" class=\"colab-df-container\">\n",
              "    <div>\n",
              "<style scoped>\n",
              "    .dataframe tbody tr th:only-of-type {\n",
              "        vertical-align: middle;\n",
              "    }\n",
              "\n",
              "    .dataframe tbody tr th {\n",
              "        vertical-align: top;\n",
              "    }\n",
              "\n",
              "    .dataframe thead th {\n",
              "        text-align: right;\n",
              "    }\n",
              "</style>\n",
              "<table border=\"1\" class=\"dataframe\">\n",
              "  <thead>\n",
              "    <tr style=\"text-align: right;\">\n",
              "      <th></th>\n",
              "      <th>RespondentID</th>\n",
              "      <th>StartDate</th>\n",
              "      <th>EndDate</th>\n",
              "      <th>FamiliarityNews</th>\n",
              "      <th>FamiliarityTech</th>\n",
              "      <th>SharedCyclist</th>\n",
              "      <th>SharedPedestrian</th>\n",
              "      <th>SafeAv</th>\n",
              "      <th>SafeHuman</th>\n",
              "      <th>AvImpact</th>\n",
              "      <th>...</th>\n",
              "      <th>SchoolZoneManual</th>\n",
              "      <th>ShareTripData</th>\n",
              "      <th>SharePerformanceData</th>\n",
              "      <th>ReportSafetyIncident</th>\n",
              "      <th>ArizonaCrash</th>\n",
              "      <th>ZipCode</th>\n",
              "      <th>BikePghMember</th>\n",
              "      <th>AutoOwner</th>\n",
              "      <th>SmartphoneOwner</th>\n",
              "      <th>Age</th>\n",
              "    </tr>\n",
              "  </thead>\n",
              "  <tbody>\n",
              "    <tr>\n",
              "      <th>0</th>\n",
              "      <td>10505419886</td>\n",
              "      <td>2/2/2019</td>\n",
              "      <td>2/2/2019</td>\n",
              "      <td>To a moderate extent</td>\n",
              "      <td>Somewhat familiar</td>\n",
              "      <td>Yes</td>\n",
              "      <td>Yes</td>\n",
              "      <td>4.0</td>\n",
              "      <td>2.0</td>\n",
              "      <td>Significantly Better</td>\n",
              "      <td>...</td>\n",
              "      <td>No</td>\n",
              "      <td>Not sure</td>\n",
              "      <td>Yes</td>\n",
              "      <td>Yes</td>\n",
              "      <td>No change</td>\n",
              "      <td>15212</td>\n",
              "      <td>No</td>\n",
              "      <td>Yes</td>\n",
              "      <td>Yes</td>\n",
              "      <td>25-34</td>\n",
              "    </tr>\n",
              "    <tr>\n",
              "      <th>1</th>\n",
              "      <td>10505138734</td>\n",
              "      <td>2/2/2019</td>\n",
              "      <td>2/2/2019</td>\n",
              "      <td>To a moderate extent</td>\n",
              "      <td>Somewhat familiar</td>\n",
              "      <td>Yes</td>\n",
              "      <td>No</td>\n",
              "      <td>5.0</td>\n",
              "      <td>4.0</td>\n",
              "      <td>Significantly Better</td>\n",
              "      <td>...</td>\n",
              "      <td>No</td>\n",
              "      <td>No</td>\n",
              "      <td>Yes</td>\n",
              "      <td>Not sure</td>\n",
              "      <td>No change</td>\n",
              "      <td>15232</td>\n",
              "      <td>Not sure</td>\n",
              "      <td>Yes</td>\n",
              "      <td>Yes</td>\n",
              "      <td>25-34</td>\n",
              "    </tr>\n",
              "    <tr>\n",
              "      <th>2</th>\n",
              "      <td>10504803283</td>\n",
              "      <td>2/1/2019</td>\n",
              "      <td>2/1/2019</td>\n",
              "      <td>To a moderate extent</td>\n",
              "      <td>Somewhat familiar</td>\n",
              "      <td>Yes</td>\n",
              "      <td>Yes</td>\n",
              "      <td>1.0</td>\n",
              "      <td>4.0</td>\n",
              "      <td>Significantly Worse</td>\n",
              "      <td>...</td>\n",
              "      <td>No</td>\n",
              "      <td>No</td>\n",
              "      <td>No</td>\n",
              "      <td>Not sure</td>\n",
              "      <td>Significantly more negative opinion</td>\n",
              "      <td>NaN</td>\n",
              "      <td>No</td>\n",
              "      <td>No</td>\n",
              "      <td>No</td>\n",
              "      <td>NaN</td>\n",
              "    </tr>\n",
              "    <tr>\n",
              "      <th>3</th>\n",
              "      <td>10504337177</td>\n",
              "      <td>2/1/2019</td>\n",
              "      <td>2/1/2019</td>\n",
              "      <td>To a moderate extent</td>\n",
              "      <td>Extremely familiar</td>\n",
              "      <td>Yes</td>\n",
              "      <td>Yes</td>\n",
              "      <td>2.0</td>\n",
              "      <td>3.0</td>\n",
              "      <td>Slightly Worse</td>\n",
              "      <td>...</td>\n",
              "      <td>Yes</td>\n",
              "      <td>No</td>\n",
              "      <td>Yes</td>\n",
              "      <td>Yes</td>\n",
              "      <td>No change</td>\n",
              "      <td>15136</td>\n",
              "      <td>No</td>\n",
              "      <td>No</td>\n",
              "      <td>Yes</td>\n",
              "      <td>55-64</td>\n",
              "    </tr>\n",
              "    <tr>\n",
              "      <th>4</th>\n",
              "      <td>10504261546</td>\n",
              "      <td>2/1/2019</td>\n",
              "      <td>2/1/2019</td>\n",
              "      <td>To a moderate extent</td>\n",
              "      <td>Mostly familiar</td>\n",
              "      <td>Yes</td>\n",
              "      <td>No</td>\n",
              "      <td>5.0</td>\n",
              "      <td>3.0</td>\n",
              "      <td>Slightly Better</td>\n",
              "      <td>...</td>\n",
              "      <td>Not sure</td>\n",
              "      <td>Yes</td>\n",
              "      <td>Yes</td>\n",
              "      <td>No</td>\n",
              "      <td>No change</td>\n",
              "      <td>15201</td>\n",
              "      <td>Yes</td>\n",
              "      <td>No</td>\n",
              "      <td>Yes</td>\n",
              "      <td>35-44</td>\n",
              "    </tr>\n",
              "    <tr>\n",
              "      <th>...</th>\n",
              "      <td>...</td>\n",
              "      <td>...</td>\n",
              "      <td>...</td>\n",
              "      <td>...</td>\n",
              "      <td>...</td>\n",
              "      <td>...</td>\n",
              "      <td>...</td>\n",
              "      <td>...</td>\n",
              "      <td>...</td>\n",
              "      <td>...</td>\n",
              "      <td>...</td>\n",
              "      <td>...</td>\n",
              "      <td>...</td>\n",
              "      <td>...</td>\n",
              "      <td>...</td>\n",
              "      <td>...</td>\n",
              "      <td>...</td>\n",
              "      <td>...</td>\n",
              "      <td>...</td>\n",
              "      <td>...</td>\n",
              "      <td>...</td>\n",
              "    </tr>\n",
              "    <tr>\n",
              "      <th>790</th>\n",
              "      <td>10470569905</td>\n",
              "      <td>1/16/2019</td>\n",
              "      <td>1/16/2019</td>\n",
              "      <td>To a moderate extent</td>\n",
              "      <td>Extremely familiar</td>\n",
              "      <td>Yes</td>\n",
              "      <td>No</td>\n",
              "      <td>4.0</td>\n",
              "      <td>2.0</td>\n",
              "      <td>Slightly Better</td>\n",
              "      <td>...</td>\n",
              "      <td>Yes</td>\n",
              "      <td>Yes</td>\n",
              "      <td>Yes</td>\n",
              "      <td>Yes</td>\n",
              "      <td>Somewhat more negative opinion</td>\n",
              "      <td>15236</td>\n",
              "      <td>No</td>\n",
              "      <td>Yes</td>\n",
              "      <td>Yes</td>\n",
              "      <td>45-54</td>\n",
              "    </tr>\n",
              "    <tr>\n",
              "      <th>791</th>\n",
              "      <td>10470569171</td>\n",
              "      <td>1/16/2019</td>\n",
              "      <td>1/16/2019</td>\n",
              "      <td>To a moderate extent</td>\n",
              "      <td>Mostly familiar</td>\n",
              "      <td>Yes</td>\n",
              "      <td>Yes</td>\n",
              "      <td>4.0</td>\n",
              "      <td>2.0</td>\n",
              "      <td>Slightly Better</td>\n",
              "      <td>...</td>\n",
              "      <td>Not sure</td>\n",
              "      <td>Yes</td>\n",
              "      <td>Yes</td>\n",
              "      <td>Not sure</td>\n",
              "      <td>No change</td>\n",
              "      <td>15201</td>\n",
              "      <td>Yes</td>\n",
              "      <td>Yes</td>\n",
              "      <td>Yes</td>\n",
              "      <td>35-44</td>\n",
              "    </tr>\n",
              "    <tr>\n",
              "      <th>792</th>\n",
              "      <td>10470532863</td>\n",
              "      <td>1/16/2019</td>\n",
              "      <td>1/16/2019</td>\n",
              "      <td>To a moderate extent</td>\n",
              "      <td>Somewhat familiar</td>\n",
              "      <td>Yes</td>\n",
              "      <td>Yes</td>\n",
              "      <td>4.0</td>\n",
              "      <td>4.0</td>\n",
              "      <td>Significantly Better</td>\n",
              "      <td>...</td>\n",
              "      <td>Yes</td>\n",
              "      <td>Yes</td>\n",
              "      <td>Yes</td>\n",
              "      <td>Yes</td>\n",
              "      <td>No change</td>\n",
              "      <td>15201</td>\n",
              "      <td>Not sure</td>\n",
              "      <td>Yes</td>\n",
              "      <td>Yes</td>\n",
              "      <td>35-44</td>\n",
              "    </tr>\n",
              "    <tr>\n",
              "      <th>793</th>\n",
              "      <td>10470438828</td>\n",
              "      <td>1/16/2019</td>\n",
              "      <td>1/16/2019</td>\n",
              "      <td>To some extent</td>\n",
              "      <td>Somewhat familiar</td>\n",
              "      <td>Yes</td>\n",
              "      <td>No</td>\n",
              "      <td>5.0</td>\n",
              "      <td>1.0</td>\n",
              "      <td>Significantly Better</td>\n",
              "      <td>...</td>\n",
              "      <td>No</td>\n",
              "      <td>No</td>\n",
              "      <td>No</td>\n",
              "      <td>Yes</td>\n",
              "      <td>No change</td>\n",
              "      <td>15217</td>\n",
              "      <td>No</td>\n",
              "      <td>Yes</td>\n",
              "      <td>Yes</td>\n",
              "      <td>55-64</td>\n",
              "    </tr>\n",
              "    <tr>\n",
              "      <th>794</th>\n",
              "      <td>10468563638</td>\n",
              "      <td>1/15/2019</td>\n",
              "      <td>1/15/2019</td>\n",
              "      <td>To a large extent</td>\n",
              "      <td>Somewhat familiar</td>\n",
              "      <td>Yes</td>\n",
              "      <td>Yes</td>\n",
              "      <td>3.0</td>\n",
              "      <td>1.0</td>\n",
              "      <td>Slightly Better</td>\n",
              "      <td>...</td>\n",
              "      <td>No</td>\n",
              "      <td>Yes</td>\n",
              "      <td>Yes</td>\n",
              "      <td>Yes</td>\n",
              "      <td>Significantly more negative opinion</td>\n",
              "      <td>15209</td>\n",
              "      <td>Yes</td>\n",
              "      <td>Yes</td>\n",
              "      <td>Yes</td>\n",
              "      <td>25-34</td>\n",
              "    </tr>\n",
              "  </tbody>\n",
              "</table>\n",
              "<p>795 rows × 23 columns</p>\n",
              "</div>\n",
              "    <div class=\"colab-df-buttons\">\n",
              "\n",
              "  <div class=\"colab-df-container\">\n",
              "    <button class=\"colab-df-convert\" onclick=\"convertToInteractive('df-3ae461b4-6e9d-4b0c-9dae-62eb0d3b9887')\"\n",
              "            title=\"Convert this dataframe to an interactive table.\"\n",
              "            style=\"display:none;\">\n",
              "\n",
              "  <svg xmlns=\"http://www.w3.org/2000/svg\" height=\"24px\" viewBox=\"0 -960 960 960\">\n",
              "    <path d=\"M120-120v-720h720v720H120Zm60-500h600v-160H180v160Zm220 220h160v-160H400v160Zm0 220h160v-160H400v160ZM180-400h160v-160H180v160Zm440 0h160v-160H620v160ZM180-180h160v-160H180v160Zm440 0h160v-160H620v160Z\"/>\n",
              "  </svg>\n",
              "    </button>\n",
              "\n",
              "  <style>\n",
              "    .colab-df-container {\n",
              "      display:flex;\n",
              "      gap: 12px;\n",
              "    }\n",
              "\n",
              "    .colab-df-convert {\n",
              "      background-color: #E8F0FE;\n",
              "      border: none;\n",
              "      border-radius: 50%;\n",
              "      cursor: pointer;\n",
              "      display: none;\n",
              "      fill: #1967D2;\n",
              "      height: 32px;\n",
              "      padding: 0 0 0 0;\n",
              "      width: 32px;\n",
              "    }\n",
              "\n",
              "    .colab-df-convert:hover {\n",
              "      background-color: #E2EBFA;\n",
              "      box-shadow: 0px 1px 2px rgba(60, 64, 67, 0.3), 0px 1px 3px 1px rgba(60, 64, 67, 0.15);\n",
              "      fill: #174EA6;\n",
              "    }\n",
              "\n",
              "    .colab-df-buttons div {\n",
              "      margin-bottom: 4px;\n",
              "    }\n",
              "\n",
              "    [theme=dark] .colab-df-convert {\n",
              "      background-color: #3B4455;\n",
              "      fill: #D2E3FC;\n",
              "    }\n",
              "\n",
              "    [theme=dark] .colab-df-convert:hover {\n",
              "      background-color: #434B5C;\n",
              "      box-shadow: 0px 1px 3px 1px rgba(0, 0, 0, 0.15);\n",
              "      filter: drop-shadow(0px 1px 2px rgba(0, 0, 0, 0.3));\n",
              "      fill: #FFFFFF;\n",
              "    }\n",
              "  </style>\n",
              "\n",
              "    <script>\n",
              "      const buttonEl =\n",
              "        document.querySelector('#df-3ae461b4-6e9d-4b0c-9dae-62eb0d3b9887 button.colab-df-convert');\n",
              "      buttonEl.style.display =\n",
              "        google.colab.kernel.accessAllowed ? 'block' : 'none';\n",
              "\n",
              "      async function convertToInteractive(key) {\n",
              "        const element = document.querySelector('#df-3ae461b4-6e9d-4b0c-9dae-62eb0d3b9887');\n",
              "        const dataTable =\n",
              "          await google.colab.kernel.invokeFunction('convertToInteractive',\n",
              "                                                    [key], {});\n",
              "        if (!dataTable) return;\n",
              "\n",
              "        const docLinkHtml = 'Like what you see? Visit the ' +\n",
              "          '<a target=\"_blank\" href=https://colab.research.google.com/notebooks/data_table.ipynb>data table notebook</a>'\n",
              "          + ' to learn more about interactive tables.';\n",
              "        element.innerHTML = '';\n",
              "        dataTable['output_type'] = 'display_data';\n",
              "        await google.colab.output.renderOutput(dataTable, element);\n",
              "        const docLink = document.createElement('div');\n",
              "        docLink.innerHTML = docLinkHtml;\n",
              "        element.appendChild(docLink);\n",
              "      }\n",
              "    </script>\n",
              "  </div>\n",
              "\n",
              "\n",
              "<div id=\"df-c40711f7-9002-45f2-9abf-e703f307a73a\">\n",
              "  <button class=\"colab-df-quickchart\" onclick=\"quickchart('df-c40711f7-9002-45f2-9abf-e703f307a73a')\"\n",
              "            title=\"Suggest charts\"\n",
              "            style=\"display:none;\">\n",
              "\n",
              "<svg xmlns=\"http://www.w3.org/2000/svg\" height=\"24px\"viewBox=\"0 0 24 24\"\n",
              "     width=\"24px\">\n",
              "    <g>\n",
              "        <path d=\"M19 3H5c-1.1 0-2 .9-2 2v14c0 1.1.9 2 2 2h14c1.1 0 2-.9 2-2V5c0-1.1-.9-2-2-2zM9 17H7v-7h2v7zm4 0h-2V7h2v10zm4 0h-2v-4h2v4z\"/>\n",
              "    </g>\n",
              "</svg>\n",
              "  </button>\n",
              "\n",
              "<style>\n",
              "  .colab-df-quickchart {\n",
              "      --bg-color: #E8F0FE;\n",
              "      --fill-color: #1967D2;\n",
              "      --hover-bg-color: #E2EBFA;\n",
              "      --hover-fill-color: #174EA6;\n",
              "      --disabled-fill-color: #AAA;\n",
              "      --disabled-bg-color: #DDD;\n",
              "  }\n",
              "\n",
              "  [theme=dark] .colab-df-quickchart {\n",
              "      --bg-color: #3B4455;\n",
              "      --fill-color: #D2E3FC;\n",
              "      --hover-bg-color: #434B5C;\n",
              "      --hover-fill-color: #FFFFFF;\n",
              "      --disabled-bg-color: #3B4455;\n",
              "      --disabled-fill-color: #666;\n",
              "  }\n",
              "\n",
              "  .colab-df-quickchart {\n",
              "    background-color: var(--bg-color);\n",
              "    border: none;\n",
              "    border-radius: 50%;\n",
              "    cursor: pointer;\n",
              "    display: none;\n",
              "    fill: var(--fill-color);\n",
              "    height: 32px;\n",
              "    padding: 0;\n",
              "    width: 32px;\n",
              "  }\n",
              "\n",
              "  .colab-df-quickchart:hover {\n",
              "    background-color: var(--hover-bg-color);\n",
              "    box-shadow: 0 1px 2px rgba(60, 64, 67, 0.3), 0 1px 3px 1px rgba(60, 64, 67, 0.15);\n",
              "    fill: var(--button-hover-fill-color);\n",
              "  }\n",
              "\n",
              "  .colab-df-quickchart-complete:disabled,\n",
              "  .colab-df-quickchart-complete:disabled:hover {\n",
              "    background-color: var(--disabled-bg-color);\n",
              "    fill: var(--disabled-fill-color);\n",
              "    box-shadow: none;\n",
              "  }\n",
              "\n",
              "  .colab-df-spinner {\n",
              "    border: 2px solid var(--fill-color);\n",
              "    border-color: transparent;\n",
              "    border-bottom-color: var(--fill-color);\n",
              "    animation:\n",
              "      spin 1s steps(1) infinite;\n",
              "  }\n",
              "\n",
              "  @keyframes spin {\n",
              "    0% {\n",
              "      border-color: transparent;\n",
              "      border-bottom-color: var(--fill-color);\n",
              "      border-left-color: var(--fill-color);\n",
              "    }\n",
              "    20% {\n",
              "      border-color: transparent;\n",
              "      border-left-color: var(--fill-color);\n",
              "      border-top-color: var(--fill-color);\n",
              "    }\n",
              "    30% {\n",
              "      border-color: transparent;\n",
              "      border-left-color: var(--fill-color);\n",
              "      border-top-color: var(--fill-color);\n",
              "      border-right-color: var(--fill-color);\n",
              "    }\n",
              "    40% {\n",
              "      border-color: transparent;\n",
              "      border-right-color: var(--fill-color);\n",
              "      border-top-color: var(--fill-color);\n",
              "    }\n",
              "    60% {\n",
              "      border-color: transparent;\n",
              "      border-right-color: var(--fill-color);\n",
              "    }\n",
              "    80% {\n",
              "      border-color: transparent;\n",
              "      border-right-color: var(--fill-color);\n",
              "      border-bottom-color: var(--fill-color);\n",
              "    }\n",
              "    90% {\n",
              "      border-color: transparent;\n",
              "      border-bottom-color: var(--fill-color);\n",
              "    }\n",
              "  }\n",
              "</style>\n",
              "\n",
              "  <script>\n",
              "    async function quickchart(key) {\n",
              "      const quickchartButtonEl =\n",
              "        document.querySelector('#' + key + ' button');\n",
              "      quickchartButtonEl.disabled = true;  // To prevent multiple clicks.\n",
              "      quickchartButtonEl.classList.add('colab-df-spinner');\n",
              "      try {\n",
              "        const charts = await google.colab.kernel.invokeFunction(\n",
              "            'suggestCharts', [key], {});\n",
              "      } catch (error) {\n",
              "        console.error('Error during call to suggestCharts:', error);\n",
              "      }\n",
              "      quickchartButtonEl.classList.remove('colab-df-spinner');\n",
              "      quickchartButtonEl.classList.add('colab-df-quickchart-complete');\n",
              "    }\n",
              "    (() => {\n",
              "      let quickchartButtonEl =\n",
              "        document.querySelector('#df-c40711f7-9002-45f2-9abf-e703f307a73a button');\n",
              "      quickchartButtonEl.style.display =\n",
              "        google.colab.kernel.accessAllowed ? 'block' : 'none';\n",
              "    })();\n",
              "  </script>\n",
              "</div>\n",
              "    </div>\n",
              "  </div>\n"
            ]
          },
          "metadata": {},
          "execution_count": 48
        }
      ]
    },
    {
      "cell_type": "code",
      "source": [
        "df.info()"
      ],
      "metadata": {
        "colab": {
          "base_uri": "https://localhost:8080/"
        },
        "id": "1BnaQx_vqqQv",
        "outputId": "97f0c78e-87c4-4837-a681-17c6a6a310f8"
      },
      "execution_count": null,
      "outputs": [
        {
          "output_type": "stream",
          "name": "stdout",
          "text": [
            "<class 'pandas.core.frame.DataFrame'>\n",
            "RangeIndex: 795 entries, 0 to 794\n",
            "Data columns (total 23 columns):\n",
            " #   Column                Non-Null Count  Dtype  \n",
            "---  ------                --------------  -----  \n",
            " 0   RespondentID          795 non-null    int64  \n",
            " 1   StartDate             795 non-null    object \n",
            " 2   EndDate               795 non-null    object \n",
            " 3   FamiliarityNews       794 non-null    object \n",
            " 4   FamiliarityTech       794 non-null    object \n",
            " 5   SharedCyclist         792 non-null    object \n",
            " 6   SharedPedestrian      793 non-null    object \n",
            " 7   SafeAv                787 non-null    float64\n",
            " 8   SafeHuman             792 non-null    float64\n",
            " 9   AvImpact              788 non-null    object \n",
            " 10  ProvingGround         792 non-null    object \n",
            " 11  Speed25Mph            792 non-null    object \n",
            " 12  TwoEmployeesAv        792 non-null    object \n",
            " 13  SchoolZoneManual      793 non-null    object \n",
            " 14  ShareTripData         793 non-null    object \n",
            " 15  SharePerformanceData  791 non-null    object \n",
            " 16  ReportSafetyIncident  794 non-null    object \n",
            " 17  ArizonaCrash          792 non-null    object \n",
            " 18  ZipCode               763 non-null    object \n",
            " 19  BikePghMember         787 non-null    object \n",
            " 20  AutoOwner             792 non-null    object \n",
            " 21  SmartphoneOwner       791 non-null    object \n",
            " 22  Age                   788 non-null    object \n",
            "dtypes: float64(2), int64(1), object(20)\n",
            "memory usage: 143.0+ KB\n"
          ]
        }
      ]
    },
    {
      "cell_type": "markdown",
      "source": [
        "The dataset has 795 entries and 23 columns, consisting of a variety of data types. The 'RespondentID' is of type int64, serving as a unique identifier. 'StartDate' and 'EndDate' are object types, likely representing time-related information. Categorical variables like 'FamiliarityNews,' 'FamiliarityTech,' 'SharedCyclist,' 'SharedPedestrian,' and others are also encoded as object types, potentially requiring further processing for modeling. Numeric variables such as 'SafeAv' and 'SafeHuman' are of type float64. 'AvImpact' is the target variable, and it appears to be categorical. Other features, such as 'ProvingGround,' 'Speed25Mph,' and 'ZipCode,' are also encoded as object types and might need encoding for modeling. There are missing values in several columns, indicating potential areas for data cleaning. The dataset provides a diverse set of information, encompassing familiarity, safety perceptions, and demographic details, suggesting a multidimensional context for analysis and modeling."
      ],
      "metadata": {
        "id": "JtGSCt4tvhnF"
      }
    },
    {
      "cell_type": "code",
      "source": [
        "df.describe()"
      ],
      "metadata": {
        "colab": {
          "base_uri": "https://localhost:8080/",
          "height": 300
        },
        "id": "KVN4nAZhqqNe",
        "outputId": "60261ef9-7a3a-4a26-85a4-d8f4ba13ef05"
      },
      "execution_count": null,
      "outputs": [
        {
          "output_type": "execute_result",
          "data": {
            "text/plain": [
              "       RespondentID      SafeAv   SafeHuman\n",
              "count  7.950000e+02  787.000000  792.000000\n",
              "mean   1.047672e+10    3.679797    2.729798\n",
              "std    9.586209e+06    1.192272    0.901030\n",
              "min    1.046856e+10    1.000000    1.000000\n",
              "25%    1.047125e+10    3.000000    2.000000\n",
              "50%    1.047189e+10    4.000000    3.000000\n",
              "75%    1.047697e+10    5.000000    3.000000\n",
              "max    1.050542e+10    5.000000    5.000000"
            ],
            "text/html": [
              "\n",
              "  <div id=\"df-cd8b8c8e-764a-4539-a0bd-77a69d412e76\" class=\"colab-df-container\">\n",
              "    <div>\n",
              "<style scoped>\n",
              "    .dataframe tbody tr th:only-of-type {\n",
              "        vertical-align: middle;\n",
              "    }\n",
              "\n",
              "    .dataframe tbody tr th {\n",
              "        vertical-align: top;\n",
              "    }\n",
              "\n",
              "    .dataframe thead th {\n",
              "        text-align: right;\n",
              "    }\n",
              "</style>\n",
              "<table border=\"1\" class=\"dataframe\">\n",
              "  <thead>\n",
              "    <tr style=\"text-align: right;\">\n",
              "      <th></th>\n",
              "      <th>RespondentID</th>\n",
              "      <th>SafeAv</th>\n",
              "      <th>SafeHuman</th>\n",
              "    </tr>\n",
              "  </thead>\n",
              "  <tbody>\n",
              "    <tr>\n",
              "      <th>count</th>\n",
              "      <td>7.950000e+02</td>\n",
              "      <td>787.000000</td>\n",
              "      <td>792.000000</td>\n",
              "    </tr>\n",
              "    <tr>\n",
              "      <th>mean</th>\n",
              "      <td>1.047672e+10</td>\n",
              "      <td>3.679797</td>\n",
              "      <td>2.729798</td>\n",
              "    </tr>\n",
              "    <tr>\n",
              "      <th>std</th>\n",
              "      <td>9.586209e+06</td>\n",
              "      <td>1.192272</td>\n",
              "      <td>0.901030</td>\n",
              "    </tr>\n",
              "    <tr>\n",
              "      <th>min</th>\n",
              "      <td>1.046856e+10</td>\n",
              "      <td>1.000000</td>\n",
              "      <td>1.000000</td>\n",
              "    </tr>\n",
              "    <tr>\n",
              "      <th>25%</th>\n",
              "      <td>1.047125e+10</td>\n",
              "      <td>3.000000</td>\n",
              "      <td>2.000000</td>\n",
              "    </tr>\n",
              "    <tr>\n",
              "      <th>50%</th>\n",
              "      <td>1.047189e+10</td>\n",
              "      <td>4.000000</td>\n",
              "      <td>3.000000</td>\n",
              "    </tr>\n",
              "    <tr>\n",
              "      <th>75%</th>\n",
              "      <td>1.047697e+10</td>\n",
              "      <td>5.000000</td>\n",
              "      <td>3.000000</td>\n",
              "    </tr>\n",
              "    <tr>\n",
              "      <th>max</th>\n",
              "      <td>1.050542e+10</td>\n",
              "      <td>5.000000</td>\n",
              "      <td>5.000000</td>\n",
              "    </tr>\n",
              "  </tbody>\n",
              "</table>\n",
              "</div>\n",
              "    <div class=\"colab-df-buttons\">\n",
              "\n",
              "  <div class=\"colab-df-container\">\n",
              "    <button class=\"colab-df-convert\" onclick=\"convertToInteractive('df-cd8b8c8e-764a-4539-a0bd-77a69d412e76')\"\n",
              "            title=\"Convert this dataframe to an interactive table.\"\n",
              "            style=\"display:none;\">\n",
              "\n",
              "  <svg xmlns=\"http://www.w3.org/2000/svg\" height=\"24px\" viewBox=\"0 -960 960 960\">\n",
              "    <path d=\"M120-120v-720h720v720H120Zm60-500h600v-160H180v160Zm220 220h160v-160H400v160Zm0 220h160v-160H400v160ZM180-400h160v-160H180v160Zm440 0h160v-160H620v160ZM180-180h160v-160H180v160Zm440 0h160v-160H620v160Z\"/>\n",
              "  </svg>\n",
              "    </button>\n",
              "\n",
              "  <style>\n",
              "    .colab-df-container {\n",
              "      display:flex;\n",
              "      gap: 12px;\n",
              "    }\n",
              "\n",
              "    .colab-df-convert {\n",
              "      background-color: #E8F0FE;\n",
              "      border: none;\n",
              "      border-radius: 50%;\n",
              "      cursor: pointer;\n",
              "      display: none;\n",
              "      fill: #1967D2;\n",
              "      height: 32px;\n",
              "      padding: 0 0 0 0;\n",
              "      width: 32px;\n",
              "    }\n",
              "\n",
              "    .colab-df-convert:hover {\n",
              "      background-color: #E2EBFA;\n",
              "      box-shadow: 0px 1px 2px rgba(60, 64, 67, 0.3), 0px 1px 3px 1px rgba(60, 64, 67, 0.15);\n",
              "      fill: #174EA6;\n",
              "    }\n",
              "\n",
              "    .colab-df-buttons div {\n",
              "      margin-bottom: 4px;\n",
              "    }\n",
              "\n",
              "    [theme=dark] .colab-df-convert {\n",
              "      background-color: #3B4455;\n",
              "      fill: #D2E3FC;\n",
              "    }\n",
              "\n",
              "    [theme=dark] .colab-df-convert:hover {\n",
              "      background-color: #434B5C;\n",
              "      box-shadow: 0px 1px 3px 1px rgba(0, 0, 0, 0.15);\n",
              "      filter: drop-shadow(0px 1px 2px rgba(0, 0, 0, 0.3));\n",
              "      fill: #FFFFFF;\n",
              "    }\n",
              "  </style>\n",
              "\n",
              "    <script>\n",
              "      const buttonEl =\n",
              "        document.querySelector('#df-cd8b8c8e-764a-4539-a0bd-77a69d412e76 button.colab-df-convert');\n",
              "      buttonEl.style.display =\n",
              "        google.colab.kernel.accessAllowed ? 'block' : 'none';\n",
              "\n",
              "      async function convertToInteractive(key) {\n",
              "        const element = document.querySelector('#df-cd8b8c8e-764a-4539-a0bd-77a69d412e76');\n",
              "        const dataTable =\n",
              "          await google.colab.kernel.invokeFunction('convertToInteractive',\n",
              "                                                    [key], {});\n",
              "        if (!dataTable) return;\n",
              "\n",
              "        const docLinkHtml = 'Like what you see? Visit the ' +\n",
              "          '<a target=\"_blank\" href=https://colab.research.google.com/notebooks/data_table.ipynb>data table notebook</a>'\n",
              "          + ' to learn more about interactive tables.';\n",
              "        element.innerHTML = '';\n",
              "        dataTable['output_type'] = 'display_data';\n",
              "        await google.colab.output.renderOutput(dataTable, element);\n",
              "        const docLink = document.createElement('div');\n",
              "        docLink.innerHTML = docLinkHtml;\n",
              "        element.appendChild(docLink);\n",
              "      }\n",
              "    </script>\n",
              "  </div>\n",
              "\n",
              "\n",
              "<div id=\"df-8c02a83c-c872-4b7e-9769-8273fd8119d6\">\n",
              "  <button class=\"colab-df-quickchart\" onclick=\"quickchart('df-8c02a83c-c872-4b7e-9769-8273fd8119d6')\"\n",
              "            title=\"Suggest charts\"\n",
              "            style=\"display:none;\">\n",
              "\n",
              "<svg xmlns=\"http://www.w3.org/2000/svg\" height=\"24px\"viewBox=\"0 0 24 24\"\n",
              "     width=\"24px\">\n",
              "    <g>\n",
              "        <path d=\"M19 3H5c-1.1 0-2 .9-2 2v14c0 1.1.9 2 2 2h14c1.1 0 2-.9 2-2V5c0-1.1-.9-2-2-2zM9 17H7v-7h2v7zm4 0h-2V7h2v10zm4 0h-2v-4h2v4z\"/>\n",
              "    </g>\n",
              "</svg>\n",
              "  </button>\n",
              "\n",
              "<style>\n",
              "  .colab-df-quickchart {\n",
              "      --bg-color: #E8F0FE;\n",
              "      --fill-color: #1967D2;\n",
              "      --hover-bg-color: #E2EBFA;\n",
              "      --hover-fill-color: #174EA6;\n",
              "      --disabled-fill-color: #AAA;\n",
              "      --disabled-bg-color: #DDD;\n",
              "  }\n",
              "\n",
              "  [theme=dark] .colab-df-quickchart {\n",
              "      --bg-color: #3B4455;\n",
              "      --fill-color: #D2E3FC;\n",
              "      --hover-bg-color: #434B5C;\n",
              "      --hover-fill-color: #FFFFFF;\n",
              "      --disabled-bg-color: #3B4455;\n",
              "      --disabled-fill-color: #666;\n",
              "  }\n",
              "\n",
              "  .colab-df-quickchart {\n",
              "    background-color: var(--bg-color);\n",
              "    border: none;\n",
              "    border-radius: 50%;\n",
              "    cursor: pointer;\n",
              "    display: none;\n",
              "    fill: var(--fill-color);\n",
              "    height: 32px;\n",
              "    padding: 0;\n",
              "    width: 32px;\n",
              "  }\n",
              "\n",
              "  .colab-df-quickchart:hover {\n",
              "    background-color: var(--hover-bg-color);\n",
              "    box-shadow: 0 1px 2px rgba(60, 64, 67, 0.3), 0 1px 3px 1px rgba(60, 64, 67, 0.15);\n",
              "    fill: var(--button-hover-fill-color);\n",
              "  }\n",
              "\n",
              "  .colab-df-quickchart-complete:disabled,\n",
              "  .colab-df-quickchart-complete:disabled:hover {\n",
              "    background-color: var(--disabled-bg-color);\n",
              "    fill: var(--disabled-fill-color);\n",
              "    box-shadow: none;\n",
              "  }\n",
              "\n",
              "  .colab-df-spinner {\n",
              "    border: 2px solid var(--fill-color);\n",
              "    border-color: transparent;\n",
              "    border-bottom-color: var(--fill-color);\n",
              "    animation:\n",
              "      spin 1s steps(1) infinite;\n",
              "  }\n",
              "\n",
              "  @keyframes spin {\n",
              "    0% {\n",
              "      border-color: transparent;\n",
              "      border-bottom-color: var(--fill-color);\n",
              "      border-left-color: var(--fill-color);\n",
              "    }\n",
              "    20% {\n",
              "      border-color: transparent;\n",
              "      border-left-color: var(--fill-color);\n",
              "      border-top-color: var(--fill-color);\n",
              "    }\n",
              "    30% {\n",
              "      border-color: transparent;\n",
              "      border-left-color: var(--fill-color);\n",
              "      border-top-color: var(--fill-color);\n",
              "      border-right-color: var(--fill-color);\n",
              "    }\n",
              "    40% {\n",
              "      border-color: transparent;\n",
              "      border-right-color: var(--fill-color);\n",
              "      border-top-color: var(--fill-color);\n",
              "    }\n",
              "    60% {\n",
              "      border-color: transparent;\n",
              "      border-right-color: var(--fill-color);\n",
              "    }\n",
              "    80% {\n",
              "      border-color: transparent;\n",
              "      border-right-color: var(--fill-color);\n",
              "      border-bottom-color: var(--fill-color);\n",
              "    }\n",
              "    90% {\n",
              "      border-color: transparent;\n",
              "      border-bottom-color: var(--fill-color);\n",
              "    }\n",
              "  }\n",
              "</style>\n",
              "\n",
              "  <script>\n",
              "    async function quickchart(key) {\n",
              "      const quickchartButtonEl =\n",
              "        document.querySelector('#' + key + ' button');\n",
              "      quickchartButtonEl.disabled = true;  // To prevent multiple clicks.\n",
              "      quickchartButtonEl.classList.add('colab-df-spinner');\n",
              "      try {\n",
              "        const charts = await google.colab.kernel.invokeFunction(\n",
              "            'suggestCharts', [key], {});\n",
              "      } catch (error) {\n",
              "        console.error('Error during call to suggestCharts:', error);\n",
              "      }\n",
              "      quickchartButtonEl.classList.remove('colab-df-spinner');\n",
              "      quickchartButtonEl.classList.add('colab-df-quickchart-complete');\n",
              "    }\n",
              "    (() => {\n",
              "      let quickchartButtonEl =\n",
              "        document.querySelector('#df-8c02a83c-c872-4b7e-9769-8273fd8119d6 button');\n",
              "      quickchartButtonEl.style.display =\n",
              "        google.colab.kernel.accessAllowed ? 'block' : 'none';\n",
              "    })();\n",
              "  </script>\n",
              "</div>\n",
              "    </div>\n",
              "  </div>\n"
            ]
          },
          "metadata": {},
          "execution_count": 50
        }
      ]
    },
    {
      "cell_type": "markdown",
      "source": [
        "The summary statistics for 'RespondentID' indicate that it serves as a unique identifier with a count of 795 respondents. 'SafeAv' and 'SafeHuman' exhibit a range of safety ratings on a scale from 1 to 5. The mean safety rating is approximately 3.68 for 'SafeAv' and 2.73 for 'SafeHuman,' suggesting a moderate perception of safety. The standard deviations of 1.19 and 0.90 for 'SafeAv' and 'SafeHuman,' respectively, reflect some variability in responses. The minimum and maximum values indicate the range of safety ratings provided by the respondents."
      ],
      "metadata": {
        "id": "rS4BJVvEvspa"
      }
    },
    {
      "cell_type": "markdown",
      "source": [
        "#TensorFlow"
      ],
      "metadata": {
        "id": "7bSVqE6NzX-S"
      }
    },
    {
      "cell_type": "markdown",
      "source": [
        "# Data preprocessing"
      ],
      "metadata": {
        "id": "GlyI5R35vv13"
      }
    },
    {
      "cell_type": "code",
      "source": [
        "import tensorflow as tf\n",
        "from sklearn.model_selection import train_test_split\n",
        "from sklearn.preprocessing import LabelEncoder\n",
        "\n",
        "\n",
        "df = df.dropna()\n",
        "X = df.drop(['RespondentID', 'StartDate', 'EndDate', 'AvImpact'], axis=1)\n",
        "y = df['AvImpact']"
      ],
      "metadata": {
        "id": "1XHiR03AvyoF"
      },
      "execution_count": null,
      "outputs": []
    },
    {
      "cell_type": "markdown",
      "source": [
        "In this code snippet, missing values are dropped from the DataFrame 'df,' and features ('X') are defined by excluding columns such as 'RespondentID,' 'StartDate,' 'EndDate,' and 'AvImpact.' The target variable 'y' is set to the 'AvImpact' column."
      ],
      "metadata": {
        "id": "EsckhUH_wBRs"
      }
    },
    {
      "cell_type": "code",
      "source": [
        "# Encode categorical variables\n",
        "label_encoder = LabelEncoder()\n",
        "for column in X.select_dtypes(include=['object']).columns:\n",
        "    X[column] = label_encoder.fit_transform(X[column])\n",
        "\n",
        "# Encode target variable\n",
        "y = label_encoder.fit_transform(y)\n",
        "\n",
        "# Split the dataset\n",
        "X_train, X_test, y_train, y_test = train_test_split(X, y, test_size=0.2, random_state=42)"
      ],
      "metadata": {
        "id": "ktka3Pbpv1Ia"
      },
      "execution_count": null,
      "outputs": []
    },
    {
      "cell_type": "markdown",
      "source": [
        "In these two lines of code, categorical variables in the feature set 'X' are encoded using `LabelEncoder()`, and the target variable 'y' is also encoded. The dataset is then split into training and testing sets using `train_test_split` with a test size of 20% and a random state of 42."
      ],
      "metadata": {
        "id": "eOFMiHmRwGxI"
      }
    },
    {
      "cell_type": "markdown",
      "source": [
        "# TensorFlow model"
      ],
      "metadata": {
        "id": "U35GH92rzj2l"
      }
    },
    {
      "cell_type": "code",
      "source": [
        "\n",
        "\n",
        "model = tf.keras.Sequential([\n",
        "    tf.keras.layers.Dense(64, activation='relu', input_shape=(X_train.shape[1],)),\n",
        "    tf.keras.layers.Dense(1, activation='sigmoid')\n",
        "])\n",
        "\n",
        "model.compile(optimizer='adam', loss='binary_crossentropy', metrics=['accuracy'])\n",
        "\n",
        "history = model.fit(X_train, y_train, epochs=10, batch_size=32, validation_data=(X_test, y_test))\n",
        "\n",
        "# Evaluate the model\n",
        "test_loss, test_accuracy = model.evaluate(X_test, y_test)\n",
        "print(f'Test Accuracy: {test_accuracy}')"
      ],
      "metadata": {
        "colab": {
          "base_uri": "https://localhost:8080/"
        },
        "id": "YLYOjHX9v4XC",
        "outputId": "b3203023-ed73-4bd8-d5a0-4ae9e8d79170"
      },
      "execution_count": null,
      "outputs": [
        {
          "output_type": "stream",
          "name": "stdout",
          "text": [
            "Epoch 1/10\n",
            "19/19 [==============================] - 1s 12ms/step - loss: -3.8838 - accuracy: 0.3724 - val_loss: -8.8000 - val_accuracy: 0.4247\n",
            "Epoch 2/10\n",
            "19/19 [==============================] - 0s 4ms/step - loss: -14.5082 - accuracy: 0.3810 - val_loss: -18.5415 - val_accuracy: 0.4247\n",
            "Epoch 3/10\n",
            "19/19 [==============================] - 0s 6ms/step - loss: -25.9831 - accuracy: 0.3810 - val_loss: -29.1636 - val_accuracy: 0.4247\n",
            "Epoch 4/10\n",
            "19/19 [==============================] - 0s 5ms/step - loss: -38.1098 - accuracy: 0.3810 - val_loss: -41.0684 - val_accuracy: 0.4247\n",
            "Epoch 5/10\n",
            "19/19 [==============================] - 0s 5ms/step - loss: -52.2855 - accuracy: 0.3810 - val_loss: -55.4706 - val_accuracy: 0.4247\n",
            "Epoch 6/10\n",
            "19/19 [==============================] - 0s 5ms/step - loss: -69.7611 - accuracy: 0.3810 - val_loss: -72.9949 - val_accuracy: 0.4247\n",
            "Epoch 7/10\n",
            "19/19 [==============================] - 0s 4ms/step - loss: -91.4016 - accuracy: 0.3810 - val_loss: -95.0724 - val_accuracy: 0.4247\n",
            "Epoch 8/10\n",
            "19/19 [==============================] - 0s 4ms/step - loss: -116.1381 - accuracy: 0.3810 - val_loss: -119.0326 - val_accuracy: 0.4247\n",
            "Epoch 9/10\n",
            "19/19 [==============================] - 0s 5ms/step - loss: -145.6045 - accuracy: 0.3810 - val_loss: -147.1082 - val_accuracy: 0.4247\n",
            "Epoch 10/10\n",
            "19/19 [==============================] - 0s 4ms/step - loss: -178.4682 - accuracy: 0.3810 - val_loss: -178.4294 - val_accuracy: 0.4247\n",
            "5/5 [==============================] - 0s 3ms/step - loss: -178.4294 - accuracy: 0.4247\n",
            "Test Accuracy: 0.42465752363204956\n"
          ]
        }
      ]
    },
    {
      "cell_type": "markdown",
      "source": [
        "The provided code builds and trains a binary classification model using TensorFlow's Keras API. The model architecture consists of a dense layer with 64 units and ReLU activation, followed by an output layer with a single unit and sigmoid activation. The model is compiled with the Adam optimizer and binary crossentropy loss. During training for 10 epochs, the accuracy is monitored on both the training and validation sets. The printed test accuracy at the end of training is approximately 42.5%. However, the negative loss values during training might indicate an issue with the model configuration or the choice of loss function, as negative losses are not meaningful in this context. Further investigation and potential adjustments to the model setup may be needed for better performance."
      ],
      "metadata": {
        "id": "9FXr8CbkwPiu"
      }
    },
    {
      "cell_type": "markdown",
      "source": [
        "#Plotting"
      ],
      "metadata": {
        "id": "LWnxfjTwwSRL"
      }
    },
    {
      "cell_type": "code",
      "source": [
        "\n",
        "plt.figure(figsize=(12, 6))\n",
        "\n",
        "# Plot training & validation accuracy values\n",
        "plt.subplot(1, 2, 1)\n",
        "plt.plot(history.history['accuracy'])\n",
        "plt.plot(history.history['val_accuracy'])\n",
        "plt.title('Model Accuracy')\n",
        "plt.xlabel('Epoch')\n",
        "plt.ylabel('Accuracy')\n",
        "plt.legend(['Train', 'Test'], loc='upper left')\n",
        "\n",
        "# Plot training & validation loss values\n",
        "plt.subplot(1, 2, 2)\n",
        "plt.plot(history.history['loss'])\n",
        "plt.plot(history.history['val_loss'])\n",
        "plt.title('Model Loss')\n",
        "plt.xlabel('Epoch')\n",
        "plt.ylabel('Loss')\n",
        "plt.legend(['Train', 'Test'], loc='upper left')\n",
        "\n",
        "plt.tight_layout()\n",
        "plt.show()\n"
      ],
      "metadata": {
        "colab": {
          "base_uri": "https://localhost:8080/",
          "height": 607
        },
        "id": "w6n8fJdYqqFB",
        "outputId": "1a8976e9-3928-4bf8-9e86-4168f26c08d2"
      },
      "execution_count": null,
      "outputs": [
        {
          "output_type": "display_data",
          "data": {
            "text/plain": [
              "<Figure size 1200x600 with 2 Axes>"
            ],
            "image/png": "[encoded data removed]"
          },
          "metadata": {}
        }
      ]
    },
    {
      "cell_type": "markdown",
      "source": [
        "The provided information suggests a summary of a model's training process over multiple epochs. The accuracy and loss metrics for both the training and test sets are tracked across epochs. The model's accuracy on the training set gradually increases from around 0.37 to 0.42, indicating some learning is occurring. However, the test accuracy remains relatively constant, around 0.41, suggesting the model's performance on unseen data is not improving significantly. The loss values, which are typically minimized during training, show a similar pattern with a decrease on the training set but not on the test set. The negative loss values during training epochs 3 to 10 may indicate a potential issue with the model or the choice of loss function, as negative losses are not standard in this context. Further investigation and adjustments to the model configuration may be necessary for better generalization to unseen data."
      ],
      "metadata": {
        "id": "acj5L7U4wbqH"
      }
    },
    {
      "cell_type": "markdown",
      "source": [
        "#Data preprocessing"
      ],
      "metadata": {
        "id": "UnINsyq3wjMd"
      }
    },
    {
      "cell_type": "code",
      "source": [
        "import torch\n",
        "import torch.nn as nn\n",
        "import torch.optim as optim\n",
        "from torch.utils.data import DataLoader, TensorDataset\n",
        "import matplotlib.pyplot as plt\n",
        "import pandas as pd\n",
        "from sklearn.model_selection import train_test_split\n",
        "from sklearn.preprocessing import LabelEncoder\n",
        "\n",
        "\n",
        "df = df.dropna()\n",
        "X = df.drop(['RespondentID', 'StartDate', 'EndDate', 'AvImpact'], axis=1)\n",
        "y = df['AvImpact']\n",
        "\n",
        "# Identify and encode categorical variables\n",
        "label_encoders = {}\n",
        "for column in X.select_dtypes(include=['object']).columns:\n",
        "    label_encoders[column] = LabelEncoder()\n",
        "    X[column] = label_encoders[column].fit_transform(X[column])\n",
        "\n",
        "# Convert data to PyTorch tensors\n",
        "X_tensor = torch.tensor(X.values, dtype=torch.float32)\n",
        "\n",
        "# Encode the target variable\n",
        "label_encoder_y = LabelEncoder()\n",
        "y = label_encoder_y.fit_transform(y)\n",
        "\n",
        "y_tensor = torch.tensor(y, dtype=torch.float32).view(-1, 1)\n",
        "\n",
        "# Split the dataset\n",
        "X_train, X_test, y_train, y_test = train_test_split(X_tensor, y_tensor, test_size=0.2, random_state=42)"
      ],
      "metadata": {
        "id": "K1beox-zwiiY"
      },
      "execution_count": null,
      "outputs": []
    },
    {
      "cell_type": "markdown",
      "source": [
        "In this PyTorch code snippet, a dataset is loaded and preprocessed for training a machine learning model. The initial DataFrame (`df`) is cleaned by dropping rows with missing values. The features (`X`) are extracted by excluding specific columns like 'RespondentID', 'StartDate', 'EndDate', and 'AvImpact'. Categorical variables in the feature set are identified and encoded using `LabelEncoder` from scikit-learn. The target variable (`y`) is encoded separately for binary classification. The feature and target tensors are then created using PyTorch, and the dataset is split into training and testing sets using `train_test_split` from scikit-learn. This prepares the data for training a PyTorch model on the features to predict the encoded target variable."
      ],
      "metadata": {
        "id": "drq2kFM8xHWf"
      }
    },
    {
      "cell_type": "code",
      "source": [
        "\n",
        "# Create a PyTorch dataset\n",
        "train_dataset = TensorDataset(X_train, y_train)\n",
        "test_dataset = TensorDataset(X_test, y_test)\n",
        "\n",
        "# Create PyTorch data loaders\n",
        "batch_size = 32\n",
        "train_loader = DataLoader(train_dataset, batch_size=batch_size, shuffle=True)\n",
        "test_loader = DataLoader(test_dataset, batch_size=batch_size, shuffle=False)\n"
      ],
      "metadata": {
        "id": "nfGd9qE-wrd1"
      },
      "execution_count": null,
      "outputs": []
    },
    {
      "cell_type": "markdown",
      "source": [
        "Here, PyTorch `TensorDataset` is used to create datasets (`train_dataset` and `test_dataset`) from the training and testing sets (`X_train`, `y_train`, `X_test`, `y_test`). Subsequently, PyTorch `DataLoader` instances (`train_loader` and `test_loader`) are created to handle batching, shuffling, and loading of the data during training and testing, with a specified batch size."
      ],
      "metadata": {
        "id": "eMmcX-gCxVtk"
      }
    },
    {
      "cell_type": "markdown",
      "source": [
        "#  PyTorch model"
      ],
      "metadata": {
        "id": "w6NVH1slzgce"
      }
    },
    {
      "cell_type": "code",
      "source": [
        "\n",
        "class PyTorchModel(nn.Module):\n",
        "    def __init__(self, input_size):\n",
        "        super(PyTorchModel, self).__init__()\n",
        "        self.fc1 = nn.Linear(input_size, 128)\n",
        "        self.relu = nn.ReLU()\n",
        "        self.fc2 = nn.Linear(128, 64)\n",
        "        self.fc3 = nn.Linear(64, 1)\n",
        "\n",
        "    def forward(self, x):\n",
        "        x = self.fc1(x)\n",
        "        x = self.relu(x)\n",
        "        x = self.fc2(x)\n",
        "        x = self.relu(x)\n",
        "        x = self.fc3(x)\n",
        "        return x\n",
        "\n",
        "# Initialize the PyTorch model\n",
        "input_size = X_train.shape[1]\n",
        "pytorch_model = PyTorchModel(input_size)\n",
        "\n",
        "# Define loss function and optimizer\n",
        "criterion = nn.MSELoss()\n",
        "optimizer = optim.Adam(pytorch_model.parameters(), lr=0.001)"
      ],
      "metadata": {
        "id": "PJRD9rllwtZF"
      },
      "execution_count": null,
      "outputs": []
    },
    {
      "cell_type": "markdown",
      "source": [
        "In this code snippet, a PyTorch model (`PyTorchModel`) is defined as a subclass of `nn.Module`. The model consists of three fully connected layers (`nn.Linear`) with ReLU activation functions (`nn.ReLU`) in between. The model is then initialized with the specified input size, and a mean squared error loss function (`nn.MSELoss`) and Adam optimizer (`optim.Adam`) are defined. The optimizer is configured to update the parameters of the PyTorch model with a learning rate of 0.001 during the training process. This model is designed for regression tasks, as it predicts a single continuous output."
      ],
      "metadata": {
        "id": "qtZBQYaRxdIS"
      }
    },
    {
      "cell_type": "code",
      "source": [
        "# Train the PyTorch model\n",
        "num_epochs = 10\n",
        "for epoch in range(num_epochs):\n",
        "    pytorch_model.train()\n",
        "    for batch_X, batch_y in train_loader:\n",
        "        optimizer.zero_grad()\n",
        "        output = pytorch_model(batch_X)\n",
        "        loss = criterion(output.squeeze(), batch_y)\n",
        "        loss.backward()\n",
        "        optimizer.step()\n",
        "\n",
        "# Evaluate the PyTorch model\n",
        "pytorch_model.eval()\n",
        "with torch.no_grad():\n",
        "    y_pred_pytorch = pytorch_model(X_test).numpy()"
      ],
      "metadata": {
        "colab": {
          "base_uri": "https://localhost:8080/"
        },
        "id": "XgDwZzsPwvqW",
        "outputId": "9b8aa119-61bb-4109-a876-c789678bc0f6"
      },
      "execution_count": null,
      "outputs": [
        {
          "output_type": "stream",
          "name": "stderr",
          "text": [
            "/usr/local/lib/python3.10/dist-packages/torch/nn/modules/loss.py:535: UserWarning: Using a target size (torch.Size([32, 1])) that is different to the input size (torch.Size([32])). This will likely lead to incorrect results due to broadcasting. Please ensure they have the same size.\n",
            "  return F.mse_loss(input, target, reduction=self.reduction)\n",
            "/usr/local/lib/python3.10/dist-packages/torch/nn/modules/loss.py:535: UserWarning: Using a target size (torch.Size([4, 1])) that is different to the input size (torch.Size([4])). This will likely lead to incorrect results due to broadcasting. Please ensure they have the same size.\n",
            "  return F.mse_loss(input, target, reduction=self.reduction)\n"
          ]
        }
      ]
    },
    {
      "cell_type": "markdown",
      "source": [
        "In this training loop, the PyTorch model (`pytorch_model`) is trained for 10 epochs. Within each epoch, the model is set to training mode (`pytorch_model.train()`), and for each batch of data (`batch_X, batch_y`) in the training DataLoader (`train_loader`), the optimizer gradients are zeroed (`optimizer.zero_grad()`), predictions are obtained from the model (`output = pytorch_model(batch_X)`), and the mean squared error loss is calculated between the predictions and the ground truth (`loss = criterion(output.squeeze(), batch_y)`). The loss is then backpropagated through the network (`loss.backward()`) and the optimizer is updated (`optimizer.step()`).\n",
        "\n",
        "After training, the model is set to evaluation mode (`pytorch_model.eval()`), and predictions are generated for the test set (`X_test`). It's important to note the warning messages indicating a mismatch between the target and input sizes, which may lead to incorrect results due to broadcasting. To resolve this, the predictions are converted to a NumPy array using `.numpy()`."
      ],
      "metadata": {
        "id": "PpTv0OAQxiPc"
      }
    },
    {
      "cell_type": "code",
      "source": [
        "# Ensure both y_test and y_pred have the same length\n",
        "min_length = min(len(y_test), len(y_pred))\n",
        "y_test = y_test[:min_length]\n",
        "y_pred = y_pred[:min_length]\n",
        "\n",
        "# Plot actual vs. predicted values for PyTorch\n",
        "plt.scatter(y_test, y_pred, label='Predicted (PyTorch)', color='green', alpha=0.5)\n",
        "plt.title('Actual vs. Predicted Values (PyTorch)')\n",
        "plt.xlabel('Actual Values')\n",
        "plt.ylabel('Predicted Values')\n",
        "plt.legend()\n",
        "plt.show()\n"
      ],
      "metadata": {
        "colab": {
          "base_uri": "https://localhost:8080/",
          "height": 472
        },
        "id": "FXF0tx42u8nn",
        "outputId": "f18501e2-6dfd-4884-e419-5033cee3c833"
      },
      "execution_count": null,
      "outputs": [
        {
          "output_type": "display_data",
          "data": {
            "text/plain": [
              "<Figure size 640x480 with 1 Axes>"
            ],
            "image/png": "[encoded data removed]"
          },
          "metadata": {}
        }
      ]
    },
    {
      "cell_type": "markdown",
      "source": [
        "The \"Actual vs. Predicted Values (PyTorch)\" plot displays the predicted values generated by the PyTorch model compared to the actual values from the test set. The y-axis represents the predicted and actual values, while each point on the plot corresponds to a specific data instance. The plot indicates how well the PyTorch model aligns with the true values, showcasing the model's performance across a range of instances. Ideally, the points should form a diagonal line, indicating a close match between the predicted and actual values."
      ],
      "metadata": {
        "id": "l41sTCImxufc"
      }
    },
    {
      "cell_type": "markdown",
      "source": [
        "#Correlational Matrix"
      ],
      "metadata": {
        "id": "cb2o-GaFyuH3"
      }
    },
    {
      "cell_type": "code",
      "source": [
        "import numpy as np\n",
        "\n",
        "# Convert PyTorch predictions to NumPy arrays\n",
        "y_pred_pytorch_numpy = y_pred_pytorch.flatten()\n",
        "\n",
        "# Convert TensorFlow predictions to NumPy arrays\n",
        "y_pred_tensorflow_numpy = y_pred.flatten()\n",
        "\n",
        "# Convert y_test to NumPy array\n",
        "y_test_numpy = y_test.numpy().flatten()\n",
        "\n",
        "# Combine actual values and predictions into a DataFrame\n",
        "results_df = pd.DataFrame({\n",
        "    'Actual': y_test_numpy,\n",
        "    'Predicted_TensorFlow': y_pred_tensorflow_numpy,\n",
        "    'Predicted_PyTorch': y_pred_pytorch_numpy\n",
        "})\n",
        "\n",
        "# Calculate the correlation matrix\n",
        "correlation_matrix = results_df.corr()\n",
        "\n",
        "# Print the correlation matrix\n",
        "print(\"Correlation Matrix:\")\n",
        "print(correlation_matrix)\n",
        "\n",
        "# Plot the correlation matrix\n",
        "import seaborn as sns\n",
        "plt.figure(figsize=(10, 8))\n",
        "sns.heatmap(correlation_matrix, annot=True, cmap='coolwarm', fmt='.2f', linewidths=.5)\n",
        "plt.title('Correlation Matrix')\n",
        "plt.show()\n"
      ],
      "metadata": {
        "colab": {
          "base_uri": "https://localhost:8080/",
          "height": 786
        },
        "id": "ttcQ2f1TyRcT",
        "outputId": "7fd93bce-f4f7-481d-b334-03bc64274869"
      },
      "execution_count": null,
      "outputs": [
        {
          "output_type": "stream",
          "name": "stdout",
          "text": [
            "Correlation Matrix:\n",
            "                        Actual  Predicted_TensorFlow  Predicted_PyTorch\n",
            "Actual                1.000000             -0.034712           0.037248\n",
            "Predicted_TensorFlow -0.034712              1.000000          -0.025576\n",
            "Predicted_PyTorch     0.037248             -0.025576           1.000000\n"
          ]
        },
        {
          "output_type": "display_data",
          "data": {
            "text/plain": [
              "<Figure size 1000x800 with 2 Axes>"
            ],
            "image/png": "[encoded data removed]"
          },
          "metadata": {}
        }
      ]
    },
    {
      "cell_type": "markdown",
      "source": [
        "The correlation matrix provides insights into the relationships between the 'Actual' values and the predictions from both TensorFlow and PyTorch models. A correlation coefficient of 1.00 along the diagonal signifies a perfect correlation, indicating that each variable perfectly correlates with itself. In this specific matrix, the correlation between 'Actual' and 'Predicted_TensorFlow' is 0.04, suggesting a weak positive correlation, while the correlation between 'Actual' and 'Predicted_PyTorch' is -0.03, indicating a weak negative correlation. These coefficients help assess how well the models align with the actual values, with closer values to 1.00 indicating stronger correlations."
      ],
      "metadata": {
        "id": "lWB1bNCgy73U"
      }
    },
    {
      "cell_type": "markdown",
      "source": [
        "#Conclusion\n",
        "\n",
        "In this analysis, both the TensorFlow and PyTorch models were employed to predict the 'AvImpact' variable, and their predictions were compared to the actual values. The evaluation was conducted through correlation matrices, revealing insights into the relationships between the actual and predicted values from each model. The correlation coefficients indicated that the TensorFlow predictions exhibited a weak positive correlation (0.04) with the actual values, while the PyTorch predictions showed a weak negative correlation (-0.03). These findings suggest that neither model demonstrated a strong alignment with the actual values, and further refinement or exploration of different modeling approaches may be necessary to improve predictive accuracy for the given dataset."
      ],
      "metadata": {
        "id": "_v2jrKIHzFYF"
      }
    },
    {
      "cell_type": "code",
      "source": [],
      "metadata": {
        "id": "PzDnoSiQycei"
      },
      "execution_count": null,
      "outputs": []
    }
  ]
}